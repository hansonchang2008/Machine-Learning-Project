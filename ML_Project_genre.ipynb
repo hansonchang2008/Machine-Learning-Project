{
 "cells": [
  {
   "cell_type": "markdown",
   "metadata": {},
   "source": [
    "Genre prediction\n",
    "Outline\n",
    "1. Load the dataset\n",
    "2. Correct existing error (duplicated genre, missing values)\n",
    "3. Feature Calibration and Normalization\n",
    "4. Feature Selection\n",
    "5. Oversampling"
   ]
  },
  {
   "cell_type": "code",
   "execution_count": 1,
   "metadata": {
    "scrolled": false
   },
   "outputs": [
    {
     "data": {
      "text/html": [
       "<div>\n",
       "<style scoped>\n",
       "    .dataframe tbody tr th:only-of-type {\n",
       "        vertical-align: middle;\n",
       "    }\n",
       "\n",
       "    .dataframe tbody tr th {\n",
       "        vertical-align: top;\n",
       "    }\n",
       "\n",
       "    .dataframe thead th {\n",
       "        text-align: right;\n",
       "    }\n",
       "</style>\n",
       "<table border=\"1\" class=\"dataframe\">\n",
       "  <thead>\n",
       "    <tr style=\"text-align: right;\">\n",
       "      <th></th>\n",
       "      <th>genre</th>\n",
       "      <th>artist_name</th>\n",
       "      <th>track_name</th>\n",
       "      <th>track_id</th>\n",
       "      <th>popularity</th>\n",
       "      <th>acousticness</th>\n",
       "      <th>danceability</th>\n",
       "      <th>duration_ms</th>\n",
       "      <th>energy</th>\n",
       "      <th>instrumentalness</th>\n",
       "      <th>key</th>\n",
       "      <th>liveness</th>\n",
       "      <th>loudness</th>\n",
       "      <th>mode</th>\n",
       "      <th>speechiness</th>\n",
       "      <th>tempo</th>\n",
       "      <th>time_signature</th>\n",
       "      <th>valence</th>\n",
       "    </tr>\n",
       "  </thead>\n",
       "  <tbody>\n",
       "    <tr>\n",
       "      <td>232720</td>\n",
       "      <td>Soul</td>\n",
       "      <td>Slave</td>\n",
       "      <td>Son Of Slide</td>\n",
       "      <td>2XGLdVl7lGeq8ksM6Al7jT</td>\n",
       "      <td>39</td>\n",
       "      <td>0.00384</td>\n",
       "      <td>0.687</td>\n",
       "      <td>326240</td>\n",
       "      <td>0.714</td>\n",
       "      <td>0.544000</td>\n",
       "      <td>D</td>\n",
       "      <td>0.0845</td>\n",
       "      <td>-10.626</td>\n",
       "      <td>Major</td>\n",
       "      <td>0.0316</td>\n",
       "      <td>115.542</td>\n",
       "      <td>4/4</td>\n",
       "      <td>0.962</td>\n",
       "    </tr>\n",
       "    <tr>\n",
       "      <td>232721</td>\n",
       "      <td>Soul</td>\n",
       "      <td>Jr Thomas &amp; The Volcanos</td>\n",
       "      <td>Burning Fire</td>\n",
       "      <td>1qWZdkBl4UVPj9lK6HuuFM</td>\n",
       "      <td>38</td>\n",
       "      <td>0.03290</td>\n",
       "      <td>0.785</td>\n",
       "      <td>282447</td>\n",
       "      <td>0.683</td>\n",
       "      <td>0.000880</td>\n",
       "      <td>E</td>\n",
       "      <td>0.2370</td>\n",
       "      <td>-6.944</td>\n",
       "      <td>Minor</td>\n",
       "      <td>0.0337</td>\n",
       "      <td>113.830</td>\n",
       "      <td>4/4</td>\n",
       "      <td>0.969</td>\n",
       "    </tr>\n",
       "    <tr>\n",
       "      <td>232722</td>\n",
       "      <td>Soul</td>\n",
       "      <td>Muddy Waters</td>\n",
       "      <td>(I'm Your) Hoochie Coochie Man</td>\n",
       "      <td>2ziWXUmQLrXTiYjCg2fZ2t</td>\n",
       "      <td>47</td>\n",
       "      <td>0.90100</td>\n",
       "      <td>0.517</td>\n",
       "      <td>166960</td>\n",
       "      <td>0.419</td>\n",
       "      <td>0.000000</td>\n",
       "      <td>D</td>\n",
       "      <td>0.0945</td>\n",
       "      <td>-8.282</td>\n",
       "      <td>Major</td>\n",
       "      <td>0.1480</td>\n",
       "      <td>84.135</td>\n",
       "      <td>4/4</td>\n",
       "      <td>0.813</td>\n",
       "    </tr>\n",
       "    <tr>\n",
       "      <td>232723</td>\n",
       "      <td>Soul</td>\n",
       "      <td>R.LUM.R</td>\n",
       "      <td>With My Words</td>\n",
       "      <td>6EFsue2YbIG4Qkq8Zr9Rir</td>\n",
       "      <td>44</td>\n",
       "      <td>0.26200</td>\n",
       "      <td>0.745</td>\n",
       "      <td>222442</td>\n",
       "      <td>0.704</td>\n",
       "      <td>0.000000</td>\n",
       "      <td>A</td>\n",
       "      <td>0.3330</td>\n",
       "      <td>-7.137</td>\n",
       "      <td>Major</td>\n",
       "      <td>0.1460</td>\n",
       "      <td>100.031</td>\n",
       "      <td>4/4</td>\n",
       "      <td>0.489</td>\n",
       "    </tr>\n",
       "    <tr>\n",
       "      <td>232724</td>\n",
       "      <td>Soul</td>\n",
       "      <td>Mint Condition</td>\n",
       "      <td>You Don't Have To Hurt No More</td>\n",
       "      <td>34XO9RwPMKjbvRry54QzWn</td>\n",
       "      <td>35</td>\n",
       "      <td>0.09730</td>\n",
       "      <td>0.758</td>\n",
       "      <td>323027</td>\n",
       "      <td>0.470</td>\n",
       "      <td>0.000049</td>\n",
       "      <td>G#</td>\n",
       "      <td>0.0836</td>\n",
       "      <td>-6.708</td>\n",
       "      <td>Minor</td>\n",
       "      <td>0.0287</td>\n",
       "      <td>113.897</td>\n",
       "      <td>4/4</td>\n",
       "      <td>0.479</td>\n",
       "    </tr>\n",
       "  </tbody>\n",
       "</table>\n",
       "</div>"
      ],
      "text/plain": [
       "       genre               artist_name                      track_name  \\\n",
       "232720  Soul                     Slave                    Son Of Slide   \n",
       "232721  Soul  Jr Thomas & The Volcanos                    Burning Fire   \n",
       "232722  Soul              Muddy Waters  (I'm Your) Hoochie Coochie Man   \n",
       "232723  Soul                   R.LUM.R                   With My Words   \n",
       "232724  Soul            Mint Condition  You Don't Have To Hurt No More   \n",
       "\n",
       "                      track_id  popularity  acousticness  danceability  \\\n",
       "232720  2XGLdVl7lGeq8ksM6Al7jT          39       0.00384         0.687   \n",
       "232721  1qWZdkBl4UVPj9lK6HuuFM          38       0.03290         0.785   \n",
       "232722  2ziWXUmQLrXTiYjCg2fZ2t          47       0.90100         0.517   \n",
       "232723  6EFsue2YbIG4Qkq8Zr9Rir          44       0.26200         0.745   \n",
       "232724  34XO9RwPMKjbvRry54QzWn          35       0.09730         0.758   \n",
       "\n",
       "        duration_ms  energy  instrumentalness key  liveness  loudness   mode  \\\n",
       "232720       326240   0.714          0.544000   D    0.0845   -10.626  Major   \n",
       "232721       282447   0.683          0.000880   E    0.2370    -6.944  Minor   \n",
       "232722       166960   0.419          0.000000   D    0.0945    -8.282  Major   \n",
       "232723       222442   0.704          0.000000   A    0.3330    -7.137  Major   \n",
       "232724       323027   0.470          0.000049  G#    0.0836    -6.708  Minor   \n",
       "\n",
       "        speechiness    tempo time_signature  valence  \n",
       "232720       0.0316  115.542            4/4    0.962  \n",
       "232721       0.0337  113.830            4/4    0.969  \n",
       "232722       0.1480   84.135            4/4    0.813  \n",
       "232723       0.1460  100.031            4/4    0.489  \n",
       "232724       0.0287  113.897            4/4    0.479  "
      ]
     },
     "execution_count": 1,
     "metadata": {},
     "output_type": "execute_result"
    }
   ],
   "source": [
    "import pandas as pd\n",
    "import seaborn as sb\n",
    "\n",
    "df = pd.read_csv('C:/Users/hanson/Desktop/SpotifyFeatures.csv')\n",
    "df.tail()"
   ]
  },
  {
   "cell_type": "markdown",
   "metadata": {},
   "source": [
    "Check the number of songs in each genre"
   ]
  },
  {
   "cell_type": "code",
   "execution_count": 2,
   "metadata": {
    "scrolled": true
   },
   "outputs": [
    {
     "name": "stdout",
     "output_type": "stream",
     "text": [
      "Comedy              9681\n",
      "Soundtrack          9646\n",
      "Indie               9543\n",
      "Jazz                9441\n",
      "Pop                 9386\n",
      "Electronic          9377\n",
      "Children’s Music    9353\n",
      "Folk                9299\n",
      "Hip-Hop             9295\n",
      "Rock                9272\n",
      "Alternative         9263\n",
      "Classical           9256\n",
      "Rap                 9232\n",
      "World               9096\n",
      "Soul                9089\n",
      "Blues               9023\n",
      "R&B                 8992\n",
      "Anime               8936\n",
      "Reggaeton           8927\n",
      "Ska                 8874\n",
      "Reggae              8771\n",
      "Dance               8701\n",
      "Country             8664\n",
      "Opera               8280\n",
      "Movie               7806\n",
      "Children's Music    5403\n",
      "A Capella            119\n",
      "Name: genre, dtype: int64\n"
     ]
    }
   ],
   "source": [
    "print(df['genre'].value_counts())"
   ]
  },
  {
   "cell_type": "markdown",
   "metadata": {},
   "source": [
    "Correct duplicated Children's Music genre"
   ]
  },
  {
   "cell_type": "code",
   "execution_count": 3,
   "metadata": {},
   "outputs": [],
   "source": [
    "df['genre'] =df['genre'].replace({'Children’s Music': 'Children\\'s Music'})"
   ]
  },
  {
   "cell_type": "markdown",
   "metadata": {},
   "source": [
    "There's no missing value"
   ]
  },
  {
   "cell_type": "markdown",
   "metadata": {},
   "source": [
    "Data is not balanced, and we want to balance the data by oversampling.\n",
    "However, before that we need to normalize the numerical features and calibrate the categorical features.\n",
    "Normalization: popularity, duration_ms, loudness, tempo\n",
    "Calibration: genre, key, mode, time_signature\n",
    "Ignore: Artist name, songtrack name, track_id\n",
    "\n",
    "Let's see the quantifiable original data features.\n",
    "Note that key, mode and time_significant are not shown."
   ]
  },
  {
   "cell_type": "code",
   "execution_count": 4,
   "metadata": {
    "scrolled": false
   },
   "outputs": [
    {
     "data": {
      "text/html": [
       "<div>\n",
       "<style scoped>\n",
       "    .dataframe tbody tr th:only-of-type {\n",
       "        vertical-align: middle;\n",
       "    }\n",
       "\n",
       "    .dataframe tbody tr th {\n",
       "        vertical-align: top;\n",
       "    }\n",
       "\n",
       "    .dataframe thead th {\n",
       "        text-align: right;\n",
       "    }\n",
       "</style>\n",
       "<table border=\"1\" class=\"dataframe\">\n",
       "  <thead>\n",
       "    <tr style=\"text-align: right;\">\n",
       "      <th></th>\n",
       "      <th>popularity</th>\n",
       "      <th>acousticness</th>\n",
       "      <th>danceability</th>\n",
       "      <th>duration_ms</th>\n",
       "      <th>energy</th>\n",
       "      <th>instrumentalness</th>\n",
       "      <th>liveness</th>\n",
       "      <th>loudness</th>\n",
       "      <th>speechiness</th>\n",
       "      <th>tempo</th>\n",
       "      <th>valence</th>\n",
       "    </tr>\n",
       "  </thead>\n",
       "  <tbody>\n",
       "    <tr>\n",
       "      <td>count</td>\n",
       "      <td>232725.000000</td>\n",
       "      <td>232725.000000</td>\n",
       "      <td>232725.000000</td>\n",
       "      <td>2.327250e+05</td>\n",
       "      <td>232725.000000</td>\n",
       "      <td>232725.000000</td>\n",
       "      <td>232725.000000</td>\n",
       "      <td>232725.000000</td>\n",
       "      <td>232725.000000</td>\n",
       "      <td>232725.000000</td>\n",
       "      <td>232725.000000</td>\n",
       "    </tr>\n",
       "    <tr>\n",
       "      <td>mean</td>\n",
       "      <td>41.127502</td>\n",
       "      <td>0.368560</td>\n",
       "      <td>0.554364</td>\n",
       "      <td>2.351223e+05</td>\n",
       "      <td>0.570958</td>\n",
       "      <td>0.148301</td>\n",
       "      <td>0.215009</td>\n",
       "      <td>-9.569885</td>\n",
       "      <td>0.120765</td>\n",
       "      <td>117.666585</td>\n",
       "      <td>0.454917</td>\n",
       "    </tr>\n",
       "    <tr>\n",
       "      <td>std</td>\n",
       "      <td>18.189948</td>\n",
       "      <td>0.354768</td>\n",
       "      <td>0.185608</td>\n",
       "      <td>1.189359e+05</td>\n",
       "      <td>0.263456</td>\n",
       "      <td>0.302768</td>\n",
       "      <td>0.198273</td>\n",
       "      <td>5.998204</td>\n",
       "      <td>0.185518</td>\n",
       "      <td>30.898907</td>\n",
       "      <td>0.260065</td>\n",
       "    </tr>\n",
       "    <tr>\n",
       "      <td>min</td>\n",
       "      <td>0.000000</td>\n",
       "      <td>0.000000</td>\n",
       "      <td>0.056900</td>\n",
       "      <td>1.538700e+04</td>\n",
       "      <td>0.000020</td>\n",
       "      <td>0.000000</td>\n",
       "      <td>0.009670</td>\n",
       "      <td>-52.457000</td>\n",
       "      <td>0.022200</td>\n",
       "      <td>30.379000</td>\n",
       "      <td>0.000000</td>\n",
       "    </tr>\n",
       "    <tr>\n",
       "      <td>25%</td>\n",
       "      <td>29.000000</td>\n",
       "      <td>0.037600</td>\n",
       "      <td>0.435000</td>\n",
       "      <td>1.828570e+05</td>\n",
       "      <td>0.385000</td>\n",
       "      <td>0.000000</td>\n",
       "      <td>0.097400</td>\n",
       "      <td>-11.771000</td>\n",
       "      <td>0.036700</td>\n",
       "      <td>92.959000</td>\n",
       "      <td>0.237000</td>\n",
       "    </tr>\n",
       "    <tr>\n",
       "      <td>50%</td>\n",
       "      <td>43.000000</td>\n",
       "      <td>0.232000</td>\n",
       "      <td>0.571000</td>\n",
       "      <td>2.204270e+05</td>\n",
       "      <td>0.605000</td>\n",
       "      <td>0.000044</td>\n",
       "      <td>0.128000</td>\n",
       "      <td>-7.762000</td>\n",
       "      <td>0.050100</td>\n",
       "      <td>115.778000</td>\n",
       "      <td>0.444000</td>\n",
       "    </tr>\n",
       "    <tr>\n",
       "      <td>75%</td>\n",
       "      <td>55.000000</td>\n",
       "      <td>0.722000</td>\n",
       "      <td>0.692000</td>\n",
       "      <td>2.657680e+05</td>\n",
       "      <td>0.787000</td>\n",
       "      <td>0.035800</td>\n",
       "      <td>0.264000</td>\n",
       "      <td>-5.501000</td>\n",
       "      <td>0.105000</td>\n",
       "      <td>139.054000</td>\n",
       "      <td>0.660000</td>\n",
       "    </tr>\n",
       "    <tr>\n",
       "      <td>max</td>\n",
       "      <td>100.000000</td>\n",
       "      <td>0.996000</td>\n",
       "      <td>0.989000</td>\n",
       "      <td>5.552917e+06</td>\n",
       "      <td>0.999000</td>\n",
       "      <td>0.999000</td>\n",
       "      <td>1.000000</td>\n",
       "      <td>3.744000</td>\n",
       "      <td>0.967000</td>\n",
       "      <td>242.903000</td>\n",
       "      <td>1.000000</td>\n",
       "    </tr>\n",
       "  </tbody>\n",
       "</table>\n",
       "</div>"
      ],
      "text/plain": [
       "          popularity   acousticness   danceability   duration_ms  \\\n",
       "count  232725.000000  232725.000000  232725.000000  2.327250e+05   \n",
       "mean       41.127502       0.368560       0.554364  2.351223e+05   \n",
       "std        18.189948       0.354768       0.185608  1.189359e+05   \n",
       "min         0.000000       0.000000       0.056900  1.538700e+04   \n",
       "25%        29.000000       0.037600       0.435000  1.828570e+05   \n",
       "50%        43.000000       0.232000       0.571000  2.204270e+05   \n",
       "75%        55.000000       0.722000       0.692000  2.657680e+05   \n",
       "max       100.000000       0.996000       0.989000  5.552917e+06   \n",
       "\n",
       "              energy  instrumentalness       liveness       loudness  \\\n",
       "count  232725.000000     232725.000000  232725.000000  232725.000000   \n",
       "mean        0.570958          0.148301       0.215009      -9.569885   \n",
       "std         0.263456          0.302768       0.198273       5.998204   \n",
       "min         0.000020          0.000000       0.009670     -52.457000   \n",
       "25%         0.385000          0.000000       0.097400     -11.771000   \n",
       "50%         0.605000          0.000044       0.128000      -7.762000   \n",
       "75%         0.787000          0.035800       0.264000      -5.501000   \n",
       "max         0.999000          0.999000       1.000000       3.744000   \n",
       "\n",
       "         speechiness          tempo        valence  \n",
       "count  232725.000000  232725.000000  232725.000000  \n",
       "mean        0.120765     117.666585       0.454917  \n",
       "std         0.185518      30.898907       0.260065  \n",
       "min         0.022200      30.379000       0.000000  \n",
       "25%         0.036700      92.959000       0.237000  \n",
       "50%         0.050100     115.778000       0.444000  \n",
       "75%         0.105000     139.054000       0.660000  \n",
       "max         0.967000     242.903000       1.000000  "
      ]
     },
     "execution_count": 4,
     "metadata": {},
     "output_type": "execute_result"
    }
   ],
   "source": [
    "df.describe()"
   ]
  },
  {
   "cell_type": "markdown",
   "metadata": {},
   "source": [
    "Feature Transformation"
   ]
  },
  {
   "cell_type": "code",
   "execution_count": 5,
   "metadata": {
    "scrolled": true
   },
   "outputs": [
    {
     "name": "stdout",
     "output_type": "stream",
     "text": [
      "0          99373\n",
      "1         137373\n",
      "2         170267\n",
      "3         152427\n",
      "4          82625\n",
      "           ...  \n",
      "232720    326240\n",
      "232721    282447\n",
      "232722    166960\n",
      "232723    222442\n",
      "232724    323027\n",
      "Name: duration_ms, Length: 232725, dtype: int64\n"
     ]
    },
    {
     "data": {
      "image/png": "[encoded data removed]",
      "text/plain": [
       "<Figure size 432x288 with 1 Axes>"
      ]
     },
     "metadata": {
      "needs_background": "light"
     },
     "output_type": "display_data"
    }
   ],
   "source": [
    "sb.distplot(df['duration_ms']).set_title('Distribution')\n",
    "print(df['duration_ms'])"
   ]
  },
  {
   "cell_type": "code",
   "execution_count": 6,
   "metadata": {},
   "outputs": [
    {
     "data": {
      "text/plain": [
       "Text(0.5, 1.0, 'Distribution')"
      ]
     },
     "execution_count": 6,
     "metadata": {},
     "output_type": "execute_result"
    },
    {
     "data": {
      "image/png": "[encoded data removed]",
      "text/plain": [
       "<Figure size 432x288 with 1 Axes>"
      ]
     },
     "metadata": {
      "needs_background": "light"
     },
     "output_type": "display_data"
    }
   ],
   "source": [
    "from scipy.stats import boxcox\n",
    "import numpy as np\n",
    "#data['duration_ms']\n",
    "#data['duration_ms'] = np.exp(data['duration_ms'])\n",
    "# power transform\n",
    "df['duration_ms'] = boxcox(df['duration_ms'], 0)\n",
    "\n",
    "#duration[~duration.isnull()]duration.astype(int)\n",
    "sb.distplot(df['duration_ms']).set_title('Distribution')\n"
   ]
  },
  {
   "cell_type": "code",
   "execution_count": 7,
   "metadata": {},
   "outputs": [
    {
     "name": "stdout",
     "output_type": "stream",
     "text": [
      "0         0.000000\n",
      "1         0.000000\n",
      "2         0.000000\n",
      "3         0.000000\n",
      "4         0.123000\n",
      "            ...   \n",
      "232720    0.544000\n",
      "232721    0.000880\n",
      "232722    0.000000\n",
      "232723    0.000000\n",
      "232724    0.000049\n",
      "Name: instrumentalness, Length: 232725, dtype: float64\n"
     ]
    },
    {
     "data": {
      "image/png": "[encoded data removed]",
      "text/plain": [
       "<Figure size 432x288 with 1 Axes>"
      ]
     },
     "metadata": {
      "needs_background": "light"
     },
     "output_type": "display_data"
    }
   ],
   "source": [
    "sb.distplot(df['instrumentalness']).set_title('Distribution')\n",
    "print(df['instrumentalness'])"
   ]
  },
  {
   "cell_type": "code",
   "execution_count": 8,
   "metadata": {
    "scrolled": false
   },
   "outputs": [
    {
     "name": "stdout",
     "output_type": "stream",
     "text": [
      "-8.109867469357138\n"
     ]
    },
    {
     "data": {
      "image/png": "[encoded data removed]",
      "text/plain": [
       "<Figure size 432x288 with 1 Axes>"
      ]
     },
     "metadata": {
      "needs_background": "light"
     },
     "output_type": "display_data"
    }
   ],
   "source": [
    "from scipy.stats import yeojohnson\n",
    "import numpy as np\n",
    "#data['duration_ms']\n",
    "#data['duration_ms'] = np.exp(data['duration_ms'])\n",
    "# power transform\n",
    "#df['instrumentalness'] = boxcox(df['instrumentalness'], 0)\n",
    "#df['instrumentalness']=np.log(df['instrumentalness'])\n",
    "df['instrumentalness'], lmbda = yeojohnson(df['instrumentalness'])\n",
    "#duration[~duration.isnull()]duration.astype(int)\n",
    "sb.distplot(df['instrumentalness']).set_title('instrumentalness')\n",
    "print(lmbda)"
   ]
  },
  {
   "cell_type": "code",
   "execution_count": 9,
   "metadata": {
    "scrolled": false
   },
   "outputs": [
    {
     "name": "stdout",
     "output_type": "stream",
     "text": [
      "0         0.3460\n",
      "1         0.1510\n",
      "2         0.1030\n",
      "3         0.0985\n",
      "4         0.2020\n",
      "           ...  \n",
      "232720    0.0845\n",
      "232721    0.2370\n",
      "232722    0.0945\n",
      "232723    0.3330\n",
      "232724    0.0836\n",
      "Name: liveness, Length: 232725, dtype: float64\n"
     ]
    },
    {
     "data": {
      "image/png": "[encoded data removed]",
      "text/plain": [
       "<Figure size 432x288 with 1 Axes>"
      ]
     },
     "metadata": {
      "needs_background": "light"
     },
     "output_type": "display_data"
    }
   ],
   "source": [
    "sb.distplot(df['liveness']).set_title('Distribution')\n",
    "print(df['liveness'])"
   ]
  },
  {
   "cell_type": "code",
   "execution_count": 10,
   "metadata": {},
   "outputs": [
    {
     "data": {
      "text/plain": [
       "Text(0.5, 1.0, 'liveness')"
      ]
     },
     "execution_count": 10,
     "metadata": {},
     "output_type": "execute_result"
    },
    {
     "data": {
      "image/png": "[encoded data removed]",
      "text/plain": [
       "<Figure size 432x288 with 1 Axes>"
      ]
     },
     "metadata": {
      "needs_background": "light"
     },
     "output_type": "display_data"
    }
   ],
   "source": [
    "from scipy.stats import boxcox\n",
    "import numpy as np\n",
    "#data['duration_ms']\n",
    "#data['duration_ms'] = np.exp(data['duration_ms'])\n",
    "# power transform\n",
    "df['liveness'] = boxcox(df['liveness'], 0)\n",
    "\n",
    "#duration[~duration.isnull()]duration.astype(int)\n",
    "sb.distplot(df['liveness']).set_title('liveness')"
   ]
  },
  {
   "cell_type": "code",
   "execution_count": 11,
   "metadata": {},
   "outputs": [
    {
     "name": "stdout",
     "output_type": "stream",
     "text": [
      "0         0.0525\n",
      "1         0.0868\n",
      "2         0.0362\n",
      "3         0.0395\n",
      "4         0.0456\n",
      "           ...  \n",
      "232720    0.0316\n",
      "232721    0.0337\n",
      "232722    0.1480\n",
      "232723    0.1460\n",
      "232724    0.0287\n",
      "Name: speechiness, Length: 232725, dtype: float64\n"
     ]
    },
    {
     "data": {
      "image/png": "[encoded data removed]",
      "text/plain": [
       "<Figure size 432x288 with 1 Axes>"
      ]
     },
     "metadata": {
      "needs_background": "light"
     },
     "output_type": "display_data"
    }
   ],
   "source": [
    "sb.distplot(df['speechiness']).set_title('Distribution')\n",
    "print(df['speechiness'])"
   ]
  },
  {
   "cell_type": "code",
   "execution_count": 12,
   "metadata": {
    "scrolled": false
   },
   "outputs": [
    {
     "data": {
      "text/plain": [
       "Text(0.5, 1.0, 'speechiness')"
      ]
     },
     "execution_count": 12,
     "metadata": {},
     "output_type": "execute_result"
    },
    {
     "data": {
      "image/png": "[encoded data removed]",
      "text/plain": [
       "<Figure size 432x288 with 1 Axes>"
      ]
     },
     "metadata": {
      "needs_background": "light"
     },
     "output_type": "display_data"
    }
   ],
   "source": [
    "from scipy.stats import boxcox\n",
    "import numpy as np\n",
    "#data['duration_ms']\n",
    "#data['duration_ms'] = np.exp(data['duration_ms'])\n",
    "# power transform\n",
    "df['speechiness'] = boxcox(df['speechiness'], -0.5)\n",
    "\n",
    "#duration[~duration.isnull()]duration.astype(int)\n",
    "sb.distplot(df['speechiness']).set_title('speechiness')"
   ]
  },
  {
   "cell_type": "code",
   "execution_count": 13,
   "metadata": {},
   "outputs": [
    {
     "data": {
      "text/plain": [
       "0.5900331721194244"
      ]
     },
     "execution_count": 13,
     "metadata": {},
     "output_type": "execute_result"
    }
   ],
   "source": [
    "df['speechiness'].skew(axis=0)"
   ]
  },
  {
   "cell_type": "code",
   "execution_count": 14,
   "metadata": {
    "scrolled": true
   },
   "outputs": [
    {
     "name": "stdout",
     "output_type": "stream",
     "text": [
      "0         -1.828\n",
      "1         -5.559\n",
      "2        -13.879\n",
      "3        -12.178\n",
      "4        -21.150\n",
      "           ...  \n",
      "232720   -10.626\n",
      "232721    -6.944\n",
      "232722    -8.282\n",
      "232723    -7.137\n",
      "232724    -6.708\n",
      "Name: loudness, Length: 232725, dtype: float64\n"
     ]
    },
    {
     "data": {
      "image/png": "[encoded data removed]",
      "text/plain": [
       "<Figure size 432x288 with 1 Axes>"
      ]
     },
     "metadata": {
      "needs_background": "light"
     },
     "output_type": "display_data"
    }
   ],
   "source": [
    "sb.distplot(df['loudness']).set_title('Distribution')\n",
    "print(df['loudness'])"
   ]
  },
  {
   "cell_type": "code",
   "execution_count": 15,
   "metadata": {},
   "outputs": [
    {
     "data": {
      "text/plain": [
       "\"\\nfrom scipy.stats import yeojohnson\\nimport numpy as np\\ndf['loudness'], lmbda = yeojohnson(df['loudness'])\\nsb.distplot(df['loudness']).set_title('loudness')\\nprint(lmbda)\\n\""
      ]
     },
     "execution_count": 15,
     "metadata": {},
     "output_type": "execute_result"
    }
   ],
   "source": [
    "'''\n",
    "from scipy.stats import yeojohnson\n",
    "import numpy as np\n",
    "df['loudness'], lmbda = yeojohnson(df['loudness'])\n",
    "sb.distplot(df['loudness']).set_title('loudness')\n",
    "print(lmbda)\n",
    "'''"
   ]
  },
  {
   "cell_type": "markdown",
   "metadata": {},
   "source": [
    "Calibrate Genre, key, mode, time_signature with label encoding ( one-hot encoding is not practical for now)"
   ]
  },
  {
   "cell_type": "code",
   "execution_count": 16,
   "metadata": {
    "scrolled": false
   },
   "outputs": [
    {
     "data": {
      "text/plain": [
       "'\\n# importing one hot encoder from sklearn \\nfrom sklearn.preprocessing import OneHotEncoder \\n# creating one hot encoder object by default \\n# entire data passed is one hot encoded \\nonehotencoder = OneHotEncoder() \\ndata = onehotencoder.fit_transform(data).toarray() \\nprint(data)\\n'"
      ]
     },
     "execution_count": 16,
     "metadata": {},
     "output_type": "execute_result"
    },
    {
     "data": {
      "image/png": "[encoded data removed]",
      "text/plain": [
       "<Figure size 432x288 with 1 Axes>"
      ]
     },
     "metadata": {
      "needs_background": "light"
     },
     "output_type": "display_data"
    }
   ],
   "source": [
    "# label encoding the data\n",
    "from sklearn.preprocessing import LabelEncoder\n",
    "from matplotlib import pyplot as plt\n",
    "le = LabelEncoder()\n",
    "\n",
    "data=df\n",
    "#print(data)\n",
    "#data['genre']= le.fit_transform(data['genre']) \n",
    "data['key']= le.fit_transform(data['key']) \n",
    "data['mode']= le.fit_transform(data['mode']) \n",
    "data['time_signature']= le.fit_transform(data['time_signature'])\n",
    "#print(data)\n",
    "#print(data['genre'].value_counts())\n",
    "#print(data['energy'].value_counts())\n",
    "#sns.distplot(dataframe['energy']).set_title(' Distribution')\n",
    "\n",
    "sb.barplot(x = 'popularity', y = 'genre', data = data)\n",
    "plt.title('Genre Based on popularity')\n",
    "\n",
    "df = data\n",
    "\n",
    "#One_hot encoding is ignored because there're too many data\n",
    "'''\n",
    "# importing one hot encoder from sklearn \n",
    "from sklearn.preprocessing import OneHotEncoder \n",
    "# creating one hot encoder object by default \n",
    "# entire data passed is one hot encoded \n",
    "onehotencoder = OneHotEncoder() \n",
    "data = onehotencoder.fit_transform(data).toarray() \n",
    "print(data)\n",
    "'''"
   ]
  },
  {
   "cell_type": "code",
   "execution_count": 17,
   "metadata": {},
   "outputs": [
    {
     "data": {
      "text/plain": [
       "\"\\ngenre_list=['Movie','R&B','Alternative','Country','Dance','Electronic','Anime','Folk','Blues','Opera','Hip-Hop','Children's music','Rap','Indie', 'Classical','Pop','Reggae','Reggaeton','Jazz','Rock','Ska','Comedy','Soul','Soundtrack','World']\\ngenre_value = {\\n     'Movie' : '',\\n     'R&B'   : '',\\n     'Alternative': '',\\n     'Country': '',\\n     'Dance'  : '',\\n     'Electronic'  : '',\\n     'Anime' : '',\\n     'Folk': '',\\n     'Blues':'',\\n    'Opera':'',\\n    'Hip-Hop':'',\\n    'Children's music':'',\\n    'Rap':'',\\n    'Indie':'', 'Classical':'','Pop':'','Reggae':'','Reggaeton':'','Jazz':'','Rock':'','Ska':'',\\n    'Comedy':'',\\n    'Soul':'',\\n    'Soundtrack':''\\n    ,'World':''\\n}\\n\\n\\ndatanew = data\\nprint(len(datanew))\\ncount = 0\\ncount2 = 0\\ndata_genre=data['genre']\\nprint(len(data_genre))\\nfor element in data['genre']:\\n    for genr in genre_list:\\n        if element == genr:\\n            genre_value.update({genr:})\\n    count=count+1\\nprint(count)\\nprint(count2)\\nprint(len(datanew))\\n\\n\""
      ]
     },
     "execution_count": 17,
     "metadata": {},
     "output_type": "execute_result"
    }
   ],
   "source": [
    "'''\n",
    "genre_list=['Movie','R&B','Alternative','Country','Dance','Electronic','Anime','Folk','Blues','Opera','Hip-Hop','Children\\'s music','Rap','Indie', 'Classical','Pop','Reggae','Reggaeton','Jazz','Rock','Ska','Comedy','Soul','Soundtrack','World']\n",
    "genre_value = {\n",
    "     'Movie' : '',\n",
    "     'R&B'   : '',\n",
    "     'Alternative': '',\n",
    "     'Country': '',\n",
    "     'Dance'  : '',\n",
    "     'Electronic'  : '',\n",
    "     'Anime' : '',\n",
    "     'Folk': '',\n",
    "     'Blues':'',\n",
    "    'Opera':'',\n",
    "    'Hip-Hop':'',\n",
    "    'Children\\'s music':'',\n",
    "    'Rap':'',\n",
    "    'Indie':'', 'Classical':'','Pop':'','Reggae':'','Reggaeton':'','Jazz':'','Rock':'','Ska':'',\n",
    "    'Comedy':'',\n",
    "    'Soul':'',\n",
    "    'Soundtrack':''\n",
    "    ,'World':''\n",
    "}\n",
    "\n",
    "\n",
    "datanew = data\n",
    "print(len(datanew))\n",
    "count = 0\n",
    "count2 = 0\n",
    "data_genre=data['genre']\n",
    "print(len(data_genre))\n",
    "for element in data['genre']:\n",
    "    for genr in genre_list:\n",
    "        if element == genr:\n",
    "            genre_value.update({genr:})\n",
    "    count=count+1\n",
    "print(count)\n",
    "print(count2)\n",
    "print(len(datanew))\n",
    "\n",
    "'''"
   ]
  },
  {
   "cell_type": "code",
   "execution_count": 18,
   "metadata": {},
   "outputs": [
    {
     "data": {
      "text/plain": [
       "'\\n#Remove outliers\\ndatanew = df\\ndatanew = datanew[datanew.acousticness >= 0.02]\\ndatanew = datanew[datanew.popularity >= 3]\\ndatanew = datanew[datanew.instrumentalness >0.05]\\ndatanew = datanew[datanew.valence >0.05]\\ndf=datanew\\n'"
      ]
     },
     "execution_count": 18,
     "metadata": {},
     "output_type": "execute_result"
    }
   ],
   "source": [
    "'''\n",
    "#Remove outliers\n",
    "datanew = df\n",
    "datanew = datanew[datanew.acousticness >= 0.02]\n",
    "datanew = datanew[datanew.popularity >= 3]\n",
    "datanew = datanew[datanew.instrumentalness >0.05]\n",
    "datanew = datanew[datanew.valence >0.05]\n",
    "df=datanew\n",
    "'''"
   ]
  },
  {
   "cell_type": "code",
   "execution_count": 19,
   "metadata": {
    "scrolled": true
   },
   "outputs": [
    {
     "data": {
      "text/plain": [
       "\"\\ncount = df['track_name'].str.split().apply(len)\\nprint(count)\\n\""
      ]
     },
     "execution_count": 19,
     "metadata": {},
     "output_type": "execute_result"
    }
   ],
   "source": [
    "'''\n",
    "count = df['track_name'].str.split().apply(len)\n",
    "print(count)\n",
    "'''"
   ]
  },
  {
   "cell_type": "markdown",
   "metadata": {},
   "source": [
    "Now all the features are having numerical data\n",
    "Normalize all the features that are not in the range of (0, 1):\n",
    "-popularity, duration_ms, loudness, tempo\n",
    "-genre, key, mode, time_signature"
   ]
  },
  {
   "cell_type": "code",
   "execution_count": 20,
   "metadata": {
    "scrolled": false
   },
   "outputs": [
    {
     "data": {
      "text/plain": [
       "\"\\nx_array = np.array(df['popularity'])\\nnormalized_X = preprocessing.normalize([x_array])\\nnp.array(df['popularity']) = x_array\\n\\nx_array = np.array(df['duration_ms'])\\nnormalized_X = preprocessing.normalize([x_array])\\nx_array = np.array(df['loudness'])\\nnormalized_X = preprocessing.normalize([x_array])\\nx_array = np.array(df['tempo'])\\nnormalized_X = preprocessing.normalize([x_array])\\nx_array = np.array(df['popularity'])\\nnormalized_X = preprocessing.normalize([x_array])\\n\""
      ]
     },
     "execution_count": 20,
     "metadata": {},
     "output_type": "execute_result"
    }
   ],
   "source": [
    "from sklearn import preprocessing\n",
    "import numpy as np\n",
    "# Normalize total_bedrooms column\n",
    "\n",
    "\n",
    "#x_array = np.array(data['popularity'])\n",
    "#normalized_X = preprocessing.normalize([x_array],norm='max')\n",
    "#print((normalized_X[0]))\n",
    "#print(normalized_X.shape)\n",
    "#print(data['popularity'])\n",
    "\n",
    "#print(data)\n",
    "#data['popularity']=normalized_X[0]\n",
    "\n",
    "data=df\n",
    "def normalization(col,data):\n",
    "    x_array = np.array(data[col])\n",
    "    normalized_X = preprocessing.normalize([x_array],norm='max')\n",
    "    data=data.drop(columns=[col])\n",
    "    data[col]=normalized_X[0]\n",
    "    return data\n",
    "\n",
    "list1=['popularity','duration_ms','tempo','key','mode','time_signature',\n",
    "      'instrumentalness','liveness','speechiness']\n",
    "for col in list1:\n",
    "    data=normalization(col,data)\n",
    "\n",
    "min_max_scaler = preprocessing.MinMaxScaler(feature_range=(0.0001, 1))\n",
    "output = min_max_scaler.fit_transform(np.array(data['loudness']).reshape(-1, 1))\n",
    "data=data.drop(columns=['loudness'])\n",
    "data['loudness']=output\n",
    "\n",
    "\n",
    "'''\n",
    "x_array = np.array(df['popularity'])\n",
    "normalized_X = preprocessing.normalize([x_array])\n",
    "np.array(df['popularity']) = x_array\n",
    "\n",
    "x_array = np.array(df['duration_ms'])\n",
    "normalized_X = preprocessing.normalize([x_array])\n",
    "x_array = np.array(df['loudness'])\n",
    "normalized_X = preprocessing.normalize([x_array])\n",
    "x_array = np.array(df['tempo'])\n",
    "normalized_X = preprocessing.normalize([x_array])\n",
    "x_array = np.array(df['popularity'])\n",
    "normalized_X = preprocessing.normalize([x_array])\n",
    "'''\n",
    "#data=data.drop(columns=['popularity', 'duration_ms','loudness', 'tempo', 'genre', 'key', 'mode', 'time_signature'])\n",
    "#print(data)\n",
    "\n"
   ]
  },
  {
   "cell_type": "code",
   "execution_count": 21,
   "metadata": {
    "scrolled": true
   },
   "outputs": [
    {
     "name": "stdout",
     "output_type": "stream",
     "text": [
      "0         0.900866\n",
      "1         0.834486\n",
      "2         0.686460\n",
      "3         0.716724\n",
      "4         0.557098\n",
      "            ...   \n",
      "232720    0.744336\n",
      "232721    0.809844\n",
      "232722    0.786039\n",
      "232723    0.806411\n",
      "232724    0.814043\n",
      "Name: loudness, Length: 232725, dtype: float64\n"
     ]
    },
    {
     "data": {
      "image/png": "[encoded data removed]",
      "text/plain": [
       "<Figure size 432x288 with 1 Axes>"
      ]
     },
     "metadata": {
      "needs_background": "light"
     },
     "output_type": "display_data"
    }
   ],
   "source": [
    "sb.distplot(data['loudness']).set_title('Distribution')\n",
    "print(data['loudness'])"
   ]
  },
  {
   "cell_type": "code",
   "execution_count": 22,
   "metadata": {
    "scrolled": true
   },
   "outputs": [
    {
     "data": {
      "text/plain": [
       "Text(0.5, 1.0, 'Distribution')"
      ]
     },
     "execution_count": 22,
     "metadata": {},
     "output_type": "execute_result"
    },
    {
     "data": {
      "image/png": "[encoded data removed]",
      "text/plain": [
       "<Figure size 432x288 with 1 Axes>"
      ]
     },
     "metadata": {
      "needs_background": "light"
     },
     "output_type": "display_data"
    }
   ],
   "source": [
    "from scipy.stats import yeojohnson\n",
    "import numpy as np\n",
    "#data['duration_ms']\n",
    "#data['duration_ms'] = np.exp(data['duration_ms'])\n",
    "# power transform\n",
    "data['loudness'], lamba = yeojohnson(data['loudness'])\n",
    "\n",
    "#duration[~duration.isnull()]duration.astype(int)\n",
    "sb.distplot(data['loudness']).set_title('Distribution')\n"
   ]
  },
  {
   "cell_type": "code",
   "execution_count": 23,
   "metadata": {},
   "outputs": [],
   "source": [
    "#Normalize loudness again\n",
    "min_max_scaler = preprocessing.MinMaxScaler()\n",
    "output = min_max_scaler.fit_transform(np.array(data['loudness']).reshape(-1, 1))\n",
    "data=data.drop(columns=['loudness'])\n",
    "data['loudness']=output"
   ]
  },
  {
   "cell_type": "code",
   "execution_count": 24,
   "metadata": {
    "scrolled": true
   },
   "outputs": [
    {
     "data": {
      "text/plain": [
       "-0.23013499074520505"
      ]
     },
     "execution_count": 24,
     "metadata": {},
     "output_type": "execute_result"
    }
   ],
   "source": [
    "data['loudness'].skew(axis=0, skipna=True)"
   ]
  },
  {
   "cell_type": "code",
   "execution_count": 25,
   "metadata": {},
   "outputs": [
    {
     "data": {
      "text/plain": [
       "\"\\ndef print_full(x):\\n    pd.set_option('display.max_rows', len(x))\\n    print(x)\\n    pd.reset_option('display.max_rows')\\n#Correlation between genre and other features\\n#data[data.columns[:]].corr()['genre'][:]\\n#Find correlation between differnt genres\\naggregation_functions = { 'mean'} #'amount': 'sum', 'name': 'first'}\\ndata_new = data.groupby(data['genre']).aggregate(aggregation_functions)\\ndata_new_T=data_new.T\\ncorrelation=data_new_T.corr()\\n#print(correlation)\\nprint(correlation.to_string())\\n#print_full(correlation)\\n\""
      ]
     },
     "execution_count": 25,
     "metadata": {},
     "output_type": "execute_result"
    }
   ],
   "source": [
    "'''\n",
    "def print_full(x):\n",
    "    pd.set_option('display.max_rows', len(x))\n",
    "    print(x)\n",
    "    pd.reset_option('display.max_rows')\n",
    "#Correlation between genre and other features\n",
    "#data[data.columns[:]].corr()['genre'][:]\n",
    "#Find correlation between differnt genres\n",
    "aggregation_functions = { 'mean'} #'amount': 'sum', 'name': 'first'}\n",
    "data_new = data.groupby(data['genre']).aggregate(aggregation_functions)\n",
    "data_new_T=data_new.T\n",
    "correlation=data_new_T.corr()\n",
    "#print(correlation)\n",
    "print(correlation.to_string())\n",
    "#print_full(correlation)\n",
    "'''"
   ]
  },
  {
   "cell_type": "markdown",
   "metadata": {},
   "source": [
    "Remove some genres"
   ]
  },
  {
   "cell_type": "code",
   "execution_count": 26,
   "metadata": {},
   "outputs": [],
   "source": [
    "#Not a properly defined genre\n",
    "data=data[data.genre !='Movie']\n",
    "data=data[data.genre !='Soundtrack']\n",
    "data=data[data.genre !='Anime']\n",
    "data=data[data.genre !='World']\n",
    "data=data[data.genre !='Jazz']\n",
    "\n",
    "data=data[data.genre !='Children\\'s Music']\n",
    "data=data[data.genre !='Pop'] #High Correlation w/ other genres\n",
    "data=data[data.genre !='Alternative'] #High Correlation w/ other genres\n",
    "\n",
    "data=data[data.genre !='Folk']\n",
    "data=data[data.genre !='Soul']\n",
    "data=data[data.genre !='Reggae']\n",
    "data=data[data.genre !='R&B']\n",
    "data=data[data.genre !='Indie']\n",
    "data=data[data.genre !='Dance']\n",
    "data=data[data.genre !='Blues']\n",
    "data=data[data.genre !='Country']\n",
    "data=data[data.genre !='Rap']\n",
    "#0.84 overall\n",
    "\n",
    "#Combine hip-hop and rap\n",
    "#data['genre'] =data['genre'].replace({'Rap': 'Hip-Hop'})\n",
    "#Dance, Hip-Hop, Jazz, Rap, World\n",
    "#data['genre'] =data['genre'].replace({'Reggae': 'Reggaeton'})\n",
    "#data['genre'] =data['genre'].replace({'Blues': 'Instrument'})\n"
   ]
  },
  {
   "cell_type": "markdown",
   "metadata": {},
   "source": [
    "Shuffle the data randomly  time_signature,mode,key,liveness"
   ]
  },
  {
   "cell_type": "code",
   "execution_count": 27,
   "metadata": {
    "scrolled": false
   },
   "outputs": [
    {
     "data": {
      "text/html": [
       "<div>\n",
       "<style scoped>\n",
       "    .dataframe tbody tr th:only-of-type {\n",
       "        vertical-align: middle;\n",
       "    }\n",
       "\n",
       "    .dataframe tbody tr th {\n",
       "        vertical-align: top;\n",
       "    }\n",
       "\n",
       "    .dataframe thead th {\n",
       "        text-align: right;\n",
       "    }\n",
       "</style>\n",
       "<table border=\"1\" class=\"dataframe\">\n",
       "  <thead>\n",
       "    <tr style=\"text-align: right;\">\n",
       "      <th></th>\n",
       "      <th>acousticness</th>\n",
       "      <th>danceability</th>\n",
       "      <th>energy</th>\n",
       "      <th>valence</th>\n",
       "      <th>popularity</th>\n",
       "      <th>duration_ms</th>\n",
       "      <th>tempo</th>\n",
       "      <th>key</th>\n",
       "      <th>mode</th>\n",
       "      <th>time_signature</th>\n",
       "      <th>instrumentalness</th>\n",
       "      <th>liveness</th>\n",
       "      <th>speechiness</th>\n",
       "      <th>loudness</th>\n",
       "    </tr>\n",
       "  </thead>\n",
       "  <tbody>\n",
       "    <tr>\n",
       "      <td>count</td>\n",
       "      <td>73081.000000</td>\n",
       "      <td>73081.000000</td>\n",
       "      <td>73081.000000</td>\n",
       "      <td>73081.000000</td>\n",
       "      <td>73081.000000</td>\n",
       "      <td>73081.000000</td>\n",
       "      <td>73081.000000</td>\n",
       "      <td>73081.000000</td>\n",
       "      <td>73081.000000</td>\n",
       "      <td>73081.000000</td>\n",
       "      <td>73081.000000</td>\n",
       "      <td>73081.000000</td>\n",
       "      <td>73081.000000</td>\n",
       "      <td>73081.000000</td>\n",
       "    </tr>\n",
       "    <tr>\n",
       "      <td>mean</td>\n",
       "      <td>0.425102</td>\n",
       "      <td>0.538912</td>\n",
       "      <td>0.585555</td>\n",
       "      <td>0.439405</td>\n",
       "      <td>0.360245</td>\n",
       "      <td>0.791750</td>\n",
       "      <td>0.475531</td>\n",
       "      <td>0.484159</td>\n",
       "      <td>0.349475</td>\n",
       "      <td>0.716140</td>\n",
       "      <td>0.247204</td>\n",
       "      <td>-1.663836</td>\n",
       "      <td>154.823145</td>\n",
       "      <td>0.282926</td>\n",
       "    </tr>\n",
       "    <tr>\n",
       "      <td>std</td>\n",
       "      <td>0.393313</td>\n",
       "      <td>0.199668</td>\n",
       "      <td>0.297756</td>\n",
       "      <td>0.268046</td>\n",
       "      <td>0.185240</td>\n",
       "      <td>0.029773</td>\n",
       "      <td>0.132448</td>\n",
       "      <td>0.313438</td>\n",
       "      <td>0.476808</td>\n",
       "      <td>0.117406</td>\n",
       "      <td>0.400799</td>\n",
       "      <td>0.834845</td>\n",
       "      <td>89.826971</td>\n",
       "      <td>0.150669</td>\n",
       "    </tr>\n",
       "    <tr>\n",
       "      <td>min</td>\n",
       "      <td>0.000001</td>\n",
       "      <td>0.058200</td>\n",
       "      <td>0.000020</td>\n",
       "      <td>0.000000</td>\n",
       "      <td>0.000000</td>\n",
       "      <td>0.621332</td>\n",
       "      <td>0.133597</td>\n",
       "      <td>0.000000</td>\n",
       "      <td>0.000000</td>\n",
       "      <td>0.000000</td>\n",
       "      <td>-0.000000</td>\n",
       "      <td>-4.422849</td>\n",
       "      <td>1.000000</td>\n",
       "      <td>0.000827</td>\n",
       "    </tr>\n",
       "    <tr>\n",
       "      <td>25%</td>\n",
       "      <td>0.034700</td>\n",
       "      <td>0.397000</td>\n",
       "      <td>0.357000</td>\n",
       "      <td>0.204000</td>\n",
       "      <td>0.220000</td>\n",
       "      <td>0.778472</td>\n",
       "      <td>0.370374</td>\n",
       "      <td>0.272727</td>\n",
       "      <td>0.000000</td>\n",
       "      <td>0.750000</td>\n",
       "      <td>-0.000000</td>\n",
       "      <td>-2.302585</td>\n",
       "      <td>75.429186</td>\n",
       "      <td>0.150145</td>\n",
       "    </tr>\n",
       "    <tr>\n",
       "      <td>50%</td>\n",
       "      <td>0.274000</td>\n",
       "      <td>0.556000</td>\n",
       "      <td>0.660000</td>\n",
       "      <td>0.426000</td>\n",
       "      <td>0.340000</td>\n",
       "      <td>0.792305</td>\n",
       "      <td>0.458216</td>\n",
       "      <td>0.454545</td>\n",
       "      <td>0.000000</td>\n",
       "      <td>0.750000</td>\n",
       "      <td>0.000376</td>\n",
       "      <td>-1.890475</td>\n",
       "      <td>175.252277</td>\n",
       "      <td>0.306834</td>\n",
       "    </tr>\n",
       "    <tr>\n",
       "      <td>75%</td>\n",
       "      <td>0.864000</td>\n",
       "      <td>0.695000</td>\n",
       "      <td>0.836000</td>\n",
       "      <td>0.654000</td>\n",
       "      <td>0.520000</td>\n",
       "      <td>0.806313</td>\n",
       "      <td>0.567963</td>\n",
       "      <td>0.727273</td>\n",
       "      <td>1.000000</td>\n",
       "      <td>0.750000</td>\n",
       "      <td>0.438569</td>\n",
       "      <td>-1.055553</td>\n",
       "      <td>228.943004</td>\n",
       "      <td>0.401727</td>\n",
       "    </tr>\n",
       "    <tr>\n",
       "      <td>max</td>\n",
       "      <td>0.996000</td>\n",
       "      <td>0.987000</td>\n",
       "      <td>0.999000</td>\n",
       "      <td>0.992000</td>\n",
       "      <td>0.980000</td>\n",
       "      <td>1.000000</td>\n",
       "      <td>0.974607</td>\n",
       "      <td>1.000000</td>\n",
       "      <td>1.000000</td>\n",
       "      <td>1.000000</td>\n",
       "      <td>0.999925</td>\n",
       "      <td>0.000000</td>\n",
       "      <td>335.789087</td>\n",
       "      <td>0.811384</td>\n",
       "    </tr>\n",
       "  </tbody>\n",
       "</table>\n",
       "</div>"
      ],
      "text/plain": [
       "       acousticness  danceability        energy       valence    popularity  \\\n",
       "count  73081.000000  73081.000000  73081.000000  73081.000000  73081.000000   \n",
       "mean       0.425102      0.538912      0.585555      0.439405      0.360245   \n",
       "std        0.393313      0.199668      0.297756      0.268046      0.185240   \n",
       "min        0.000001      0.058200      0.000020      0.000000      0.000000   \n",
       "25%        0.034700      0.397000      0.357000      0.204000      0.220000   \n",
       "50%        0.274000      0.556000      0.660000      0.426000      0.340000   \n",
       "75%        0.864000      0.695000      0.836000      0.654000      0.520000   \n",
       "max        0.996000      0.987000      0.999000      0.992000      0.980000   \n",
       "\n",
       "        duration_ms         tempo           key          mode  time_signature  \\\n",
       "count  73081.000000  73081.000000  73081.000000  73081.000000    73081.000000   \n",
       "mean       0.791750      0.475531      0.484159      0.349475        0.716140   \n",
       "std        0.029773      0.132448      0.313438      0.476808        0.117406   \n",
       "min        0.621332      0.133597      0.000000      0.000000        0.000000   \n",
       "25%        0.778472      0.370374      0.272727      0.000000        0.750000   \n",
       "50%        0.792305      0.458216      0.454545      0.000000        0.750000   \n",
       "75%        0.806313      0.567963      0.727273      1.000000        0.750000   \n",
       "max        1.000000      0.974607      1.000000      1.000000        1.000000   \n",
       "\n",
       "       instrumentalness      liveness   speechiness      loudness  \n",
       "count      73081.000000  73081.000000  73081.000000  73081.000000  \n",
       "mean           0.247204     -1.663836    154.823145      0.282926  \n",
       "std            0.400799      0.834845     89.826971      0.150669  \n",
       "min           -0.000000     -4.422849      1.000000      0.000827  \n",
       "25%           -0.000000     -2.302585     75.429186      0.150145  \n",
       "50%            0.000376     -1.890475    175.252277      0.306834  \n",
       "75%            0.438569     -1.055553    228.943004      0.401727  \n",
       "max            0.999925      0.000000    335.789087      0.811384  "
      ]
     },
     "execution_count": 27,
     "metadata": {},
     "output_type": "execute_result"
    }
   ],
   "source": [
    "#data.head()\n",
    "data=data.sample(frac=1)\n",
    "data.head()\n",
    "data.describe()"
   ]
  },
  {
   "cell_type": "markdown",
   "metadata": {},
   "source": [
    "Remove duplicate labels of the same song randomly"
   ]
  },
  {
   "cell_type": "code",
   "execution_count": 28,
   "metadata": {},
   "outputs": [],
   "source": [
    "data=data.drop_duplicates(['track_id'], keep='first')"
   ]
  },
  {
   "cell_type": "code",
   "execution_count": 29,
   "metadata": {
    "scrolled": true
   },
   "outputs": [
    {
     "name": "stdout",
     "output_type": "stream",
     "text": [
      "Comedy        9678\n",
      "Electronic    9359\n",
      "Rock          9195\n",
      "Hip-Hop       9084\n",
      "Classical     9055\n",
      "Ska           8854\n",
      "Reggaeton     8783\n",
      "Opera         8088\n",
      "A Capella      119\n",
      "Name: genre, dtype: int64\n"
     ]
    }
   ],
   "source": [
    "#data=df\n",
    "datanew=data.duplicated(subset=None, keep=False)\n",
    "#print(datanew)\n",
    "for i in datanew:\n",
    "    if i==True:\n",
    "        print(\"oh\")\n",
    "#data.describe()\n",
    "print(data['genre'].value_counts())"
   ]
  },
  {
   "cell_type": "markdown",
   "metadata": {},
   "source": [
    "Outlier detection"
   ]
  },
  {
   "cell_type": "code",
   "execution_count": 30,
   "metadata": {},
   "outputs": [
    {
     "data": {
      "text/plain": [
       "\"\\nfrom scipy import stats\\n\\noutliers=[]\\ndef detect_outlier(data_energy):\\n    threshold=4\\n    mean_1 = np.mean(data_energy)\\n    std_1 =np.std(data_energy)\\n    for y in data_energy:\\n        z_score= (y - mean_1)/std_1 \\n        if np.abs(z_score) > threshold:\\n            outliers.append(y)\\n    return outliers\\n\\n#z=np.abs(stats.zscore(data[]))\\n#print(z)\\n\\noutliers=detect_outlier(data['speechiness'])\\n\\nprint(outliers)\\nprint(len(outliers))\\n\\n\\n#Remove those with higher liveness, 7000 -->5573 -->0\\n#Remove those with higher speechiness z-score ->9000 ->2189\\n#popularity z score, 27 ->83\\n#duration, 2314 ->1779 ->985\\n#tempo 106 ->\\n#time_signature 2600 2346\\n#loudness 4000 ->573\\n\""
      ]
     },
     "execution_count": 30,
     "metadata": {},
     "output_type": "execute_result"
    }
   ],
   "source": [
    "'''\n",
    "from scipy import stats\n",
    "\n",
    "outliers=[]\n",
    "def detect_outlier(data_energy):\n",
    "    threshold=4\n",
    "    mean_1 = np.mean(data_energy)\n",
    "    std_1 =np.std(data_energy)\n",
    "    for y in data_energy:\n",
    "        z_score= (y - mean_1)/std_1 \n",
    "        if np.abs(z_score) > threshold:\n",
    "            outliers.append(y)\n",
    "    return outliers\n",
    "\n",
    "#z=np.abs(stats.zscore(data[]))\n",
    "#print(z)\n",
    "\n",
    "outliers=detect_outlier(data['speechiness'])\n",
    "\n",
    "print(outliers)\n",
    "print(len(outliers))\n",
    "\n",
    "\n",
    "#Remove those with higher liveness, 7000 -->5573 -->0\n",
    "#Remove those with higher speechiness z-score ->9000 ->2189\n",
    "#popularity z score, 27 ->83\n",
    "#duration, 2314 ->1779 ->985\n",
    "#tempo 106 ->\n",
    "#time_signature 2600 2346\n",
    "#loudness 4000 ->573\n",
    "'''"
   ]
  },
  {
   "cell_type": "code",
   "execution_count": 31,
   "metadata": {
    "scrolled": true
   },
   "outputs": [
    {
     "data": {
      "text/plain": [
       "\"\\ndatanew=data\\nprint(len(datanew))\\ncount = 0\\ncount2=0\\ndata_speech=data['speechiness']\\nprint(len(data_speech))\\nfor element in data['speechiness']:\\n    if element in outliers:\\n        #get the index\\n        #datanew=datanew.drop(datanew.index[count])\\n        count2=count2+1\\n        datanew = datanew[datanew.speechiness != element]\\n    count=count+1\\nprint(count)\\nprint(count2)\\nprint(len(datanew))\\n\""
      ]
     },
     "execution_count": 31,
     "metadata": {},
     "output_type": "execute_result"
    }
   ],
   "source": [
    "'''\n",
    "datanew=data\n",
    "print(len(datanew))\n",
    "count = 0\n",
    "count2=0\n",
    "data_speech=data['speechiness']\n",
    "print(len(data_speech))\n",
    "for element in data['speechiness']:\n",
    "    if element in outliers:\n",
    "        #get the index\n",
    "        #datanew=datanew.drop(datanew.index[count])\n",
    "        count2=count2+1\n",
    "        datanew = datanew[datanew.speechiness != element]\n",
    "    count=count+1\n",
    "print(count)\n",
    "print(count2)\n",
    "print(len(datanew))\n",
    "'''"
   ]
  },
  {
   "cell_type": "code",
   "execution_count": 32,
   "metadata": {},
   "outputs": [
    {
     "data": {
      "text/plain": [
       "'\\ndata=datanew\\n\"\"\"\\noutliers=[]\\ndef detect_outlier(data_energy):\\n    threshold=4\\n    mean_1 = np.mean(data_energy)\\n    std_1 =np.std(data_energy)\\n    print()\\n    for y in data_energy:\\n        z_score= (y - mean_1)/std_1 \\n        if np.abs(z_score) > threshold:\\n            outliers.append(y)\\n    return outliers\\noutliers=detect_outlier(datanew[\\'speechiness\\'])\\nprint(len(outliers))\\n\"\"\"\\n'"
      ]
     },
     "execution_count": 32,
     "metadata": {},
     "output_type": "execute_result"
    }
   ],
   "source": [
    "'''\n",
    "data=datanew\n",
    "\"\"\"\n",
    "outliers=[]\n",
    "def detect_outlier(data_energy):\n",
    "    threshold=4\n",
    "    mean_1 = np.mean(data_energy)\n",
    "    std_1 =np.std(data_energy)\n",
    "    print()\n",
    "    for y in data_energy:\n",
    "        z_score= (y - mean_1)/std_1 \n",
    "        if np.abs(z_score) > threshold:\n",
    "            outliers.append(y)\n",
    "    return outliers\n",
    "outliers=detect_outlier(datanew['speechiness'])\n",
    "print(len(outliers))\n",
    "\"\"\"\n",
    "'''"
   ]
  },
  {
   "cell_type": "markdown",
   "metadata": {},
   "source": [
    "Seperate the features and targets"
   ]
  },
  {
   "cell_type": "code",
   "execution_count": 33,
   "metadata": {},
   "outputs": [],
   "source": [
    "#Remove some genres\n",
    "#data=data[data.genre !='Comedy']\n",
    "data=data[data.genre !='A Capella']\n",
    "X=data.drop('genre',1)\n",
    "X=X.drop('artist_name',1)\n",
    "X=X.drop('track_name',1)\n",
    "X=X.drop('track_id',1)\n",
    "#X=X.drop('popularity',1)\n",
    "#X=X.drop('duration_ms',1)\n",
    "\n",
    "##Dropped previously\n",
    "#Added these back reduce accracy from 0.78 to 0.745\n",
    "X=X.drop('mode',1)\n",
    "X=X.drop('liveness',1)\n",
    "X=X.drop('key',1)\n",
    "\n",
    "\n",
    "#X=X.drop('time_signature',1)\n",
    "X.head(5)\n",
    "y = data['genre']\n",
    "#y.head()"
   ]
  },
  {
   "cell_type": "markdown",
   "metadata": {},
   "source": [
    "Undersample to balance the data"
   ]
  },
  {
   "cell_type": "code",
   "execution_count": 34,
   "metadata": {},
   "outputs": [
    {
     "data": {
      "text/plain": [
       "\"\\nfrom collections import Counter\\nfrom imblearn.under_sampling import RandomUnderSampler\\nrus = RandomUnderSampler('all')\\nX, y = rus.fit_resample(X, y)\\nprint('Resampled dataset shape %s' % Counter(y))\\n\""
      ]
     },
     "execution_count": 34,
     "metadata": {},
     "output_type": "execute_result"
    }
   ],
   "source": [
    "'''\n",
    "from collections import Counter\n",
    "from imblearn.under_sampling import RandomUnderSampler\n",
    "rus = RandomUnderSampler('all')\n",
    "X, y = rus.fit_resample(X, y)\n",
    "print('Resampled dataset shape %s' % Counter(y))\n",
    "'''"
   ]
  },
  {
   "cell_type": "markdown",
   "metadata": {},
   "source": [
    "Split the data into training & testing, 9:1\n",
    "209452 training data, 23273 testing data"
   ]
  },
  {
   "cell_type": "code",
   "execution_count": 35,
   "metadata": {
    "scrolled": false
   },
   "outputs": [
    {
     "name": "stdout",
     "output_type": "stream",
     "text": [
      "64886\n",
      "7210\n"
     ]
    }
   ],
   "source": [
    "from sklearn.model_selection import train_test_split\n",
    "X_train, X_test, y_train, y_test = train_test_split(X, y, test_size = 0.1, random_state = 32)\n",
    "print(len(X_train))\n",
    "print(len(X_test))\n"
   ]
  },
  {
   "cell_type": "markdown",
   "metadata": {},
   "source": [
    "Oversampling on only the training data.\n",
    "Reason: for testing, we need real data value, excluding the generated data by SMOTE"
   ]
  },
  {
   "cell_type": "code",
   "execution_count": 36,
   "metadata": {
    "scrolled": false
   },
   "outputs": [
    {
     "name": "stderr",
     "output_type": "stream",
     "text": [
      "Using TensorFlow backend.\n"
     ]
    }
   ],
   "source": [
    "'''\n",
    "from imblearn.over_sampling import SMOTE\n",
    "\n",
    "sm = SMOTE('not majority')\n",
    "X_train, y_train = sm.fit_sample(X_train, y_train)\n",
    "print(X_train.shape)\n",
    "'''\n",
    "from imblearn.over_sampling import RandomOverSampler\n",
    "ros = RandomOverSampler()\n",
    "X_train, y_train = ros.fit_resample(X_train, y_train)"
   ]
  },
  {
   "cell_type": "code",
   "execution_count": 37,
   "metadata": {
    "scrolled": true
   },
   "outputs": [
    {
     "name": "stderr",
     "output_type": "stream",
     "text": [
      "C:\\Users\\hanson\\Anaconda3\\lib\\site-packages\\sklearn\\ensemble\\forest.py:245: FutureWarning: The default value of n_estimators will change from 10 in version 0.20 to 100 in 0.22.\n",
      "  \"10 in version 0.20 to 100 in 0.22.\", FutureWarning)\n",
      "C:\\Users\\hanson\\Anaconda3\\lib\\site-packages\\sklearn\\ensemble\\forest.py:245: FutureWarning: The default value of n_estimators will change from 10 in version 0.20 to 100 in 0.22.\n",
      "  \"10 in version 0.20 to 100 in 0.22.\", FutureWarning)\n",
      "C:\\Users\\hanson\\Anaconda3\\lib\\site-packages\\sklearn\\ensemble\\forest.py:245: FutureWarning: The default value of n_estimators will change from 10 in version 0.20 to 100 in 0.22.\n",
      "  \"10 in version 0.20 to 100 in 0.22.\", FutureWarning)\n",
      "C:\\Users\\hanson\\Anaconda3\\lib\\site-packages\\sklearn\\ensemble\\forest.py:245: FutureWarning: The default value of n_estimators will change from 10 in version 0.20 to 100 in 0.22.\n",
      "  \"10 in version 0.20 to 100 in 0.22.\", FutureWarning)\n",
      "C:\\Users\\hanson\\Anaconda3\\lib\\site-packages\\sklearn\\ensemble\\forest.py:245: FutureWarning: The default value of n_estimators will change from 10 in version 0.20 to 100 in 0.22.\n",
      "  \"10 in version 0.20 to 100 in 0.22.\", FutureWarning)\n",
      "C:\\Users\\hanson\\Anaconda3\\lib\\site-packages\\sklearn\\ensemble\\forest.py:245: FutureWarning: The default value of n_estimators will change from 10 in version 0.20 to 100 in 0.22.\n",
      "  \"10 in version 0.20 to 100 in 0.22.\", FutureWarning)\n",
      "C:\\Users\\hanson\\Anaconda3\\lib\\site-packages\\sklearn\\ensemble\\forest.py:245: FutureWarning: The default value of n_estimators will change from 10 in version 0.20 to 100 in 0.22.\n",
      "  \"10 in version 0.20 to 100 in 0.22.\", FutureWarning)\n",
      "C:\\Users\\hanson\\Anaconda3\\lib\\site-packages\\sklearn\\ensemble\\forest.py:245: FutureWarning: The default value of n_estimators will change from 10 in version 0.20 to 100 in 0.22.\n",
      "  \"10 in version 0.20 to 100 in 0.22.\", FutureWarning)\n",
      "C:\\Users\\hanson\\Anaconda3\\lib\\site-packages\\sklearn\\ensemble\\forest.py:245: FutureWarning: The default value of n_estimators will change from 10 in version 0.20 to 100 in 0.22.\n",
      "  \"10 in version 0.20 to 100 in 0.22.\", FutureWarning)\n",
      "C:\\Users\\hanson\\Anaconda3\\lib\\site-packages\\sklearn\\ensemble\\forest.py:245: FutureWarning: The default value of n_estimators will change from 10 in version 0.20 to 100 in 0.22.\n",
      "  \"10 in version 0.20 to 100 in 0.22.\", FutureWarning)\n"
     ]
    },
    {
     "name": "stdout",
     "output_type": "stream",
     "text": [
      "[0.84621993 0.8483677  0.84965636 0.854811   0.85194731 0.85423826\n",
      " 0.85280641 0.85048739 0.85894495 0.94266055]\n",
      "the avearge accuracy is:0.8610139854398519\n"
     ]
    }
   ],
   "source": [
    "#Use cross validation\n",
    "X_train_cv=X_train\n",
    "y_train_cv=y_train\n",
    "from sklearn.model_selection import cross_val_score\n",
    "from sklearn.ensemble import RandomForestClassifier\n",
    "from sklearn.metrics import accuracy_score\n",
    "clf = RandomForestClassifier()\n",
    "scores = cross_val_score(clf, X_train_cv, y_train_cv, cv=10)\n",
    "print(scores)\n",
    "print(\"the avearge accuracy is:\"+str(sum(scores)/10))"
   ]
  },
  {
   "cell_type": "markdown",
   "metadata": {},
   "source": [
    "Split the training data into training & validation, validation is 1 out of 9\n",
    "186202 real training data, 23250 validation data."
   ]
  },
  {
   "cell_type": "code",
   "execution_count": 38,
   "metadata": {
    "scrolled": false
   },
   "outputs": [
    {
     "name": "stdout",
     "output_type": "stream",
     "text": [
      "62066\n",
      "7750\n"
     ]
    }
   ],
   "source": [
    "X_train, X_valid, y_train, y_valid = train_test_split(X_train, y_train, test_size = 0.111, random_state=32)\n",
    "print(len(X_train))\n",
    "print(len(X_valid))"
   ]
  },
  {
   "cell_type": "markdown",
   "metadata": {},
   "source": [
    "Do feature selection"
   ]
  },
  {
   "cell_type": "code",
   "execution_count": 39,
   "metadata": {
    "scrolled": true
   },
   "outputs": [
    {
     "data": {
      "text/plain": [
       "'\\nfrom sklearn.feature_selection import RFE\\nfrom sklearn.linear_model import LogisticRegression\\n# feature extraction\\nmodel = LogisticRegression(solver=\\'newton-cg\\',multi_class=\\'multinomial\\')\\nrfe = RFE(model, 1)\\nfit = rfe.fit(X_train, y_train)\\nprint(\"Num Features: %d\" % fit.n_features_)\\nprint(\"Selected Features: %s\" % fit.support_)\\nprint(\"Feature Ranking: %s\" % fit.ranking_)\\n'"
      ]
     },
     "execution_count": 39,
     "metadata": {},
     "output_type": "execute_result"
    }
   ],
   "source": [
    "'''\n",
    "from sklearn.feature_selection import RFE\n",
    "from sklearn.linear_model import LogisticRegression\n",
    "# feature extraction\n",
    "model = LogisticRegression(solver='newton-cg',multi_class='multinomial')\n",
    "rfe = RFE(model, 1)\n",
    "fit = rfe.fit(X_train, y_train)\n",
    "print(\"Num Features: %d\" % fit.n_features_)\n",
    "print(\"Selected Features: %s\" % fit.support_)\n",
    "print(\"Feature Ranking: %s\" % fit.ranking_)\n",
    "'''"
   ]
  },
  {
   "cell_type": "code",
   "execution_count": 40,
   "metadata": {
    "scrolled": true
   },
   "outputs": [
    {
     "data": {
      "text/plain": [
       "'\\n#print(len(x_train_res[:]))\\nd=pd.DataFrame(data=y_train)\\n#d.describe()\\n#da=pd.DataFrame(data=y_train_over)\\n#print(da[0].value_counts())\\n\\nprint(d[0].value_counts())\\n'"
      ]
     },
     "execution_count": 40,
     "metadata": {},
     "output_type": "execute_result"
    }
   ],
   "source": [
    "'''\n",
    "#print(len(x_train_res[:]))\n",
    "d=pd.DataFrame(data=y_train)\n",
    "#d.describe()\n",
    "#da=pd.DataFrame(data=y_train_over)\n",
    "#print(da[0].value_counts())\n",
    "\n",
    "print(d[0].value_counts())\n",
    "'''"
   ]
  },
  {
   "cell_type": "markdown",
   "metadata": {},
   "source": [
    "Now train the oversampled data on the model RandomForest"
   ]
  },
  {
   "cell_type": "code",
   "execution_count": 41,
   "metadata": {
    "scrolled": false
   },
   "outputs": [
    {
     "name": "stderr",
     "output_type": "stream",
     "text": [
      "C:\\Users\\hanson\\Anaconda3\\lib\\site-packages\\sklearn\\ensemble\\forest.py:245: FutureWarning: The default value of n_estimators will change from 10 in version 0.20 to 100 in 0.22.\n",
      "  \"10 in version 0.20 to 100 in 0.22.\", FutureWarning)\n"
     ]
    },
    {
     "name": "stdout",
     "output_type": "stream",
     "text": [
      "Accuracy: 0.8596129032258064\n"
     ]
    }
   ],
   "source": [
    "from sklearn.ensemble import RandomForestClassifier\n",
    "from sklearn.metrics import accuracy_score\n",
    "model = RandomForestClassifier()\n",
    "model.fit(X_train, y_train)\n",
    "y_predict_rfc = model.predict(X_valid)\n",
    "accuracy = accuracy_score(y_valid, y_predict_rfc)\n",
    "print(\"Accuracy: \" + str(accuracy))"
   ]
  },
  {
   "cell_type": "code",
   "execution_count": 42,
   "metadata": {
    "scrolled": true
   },
   "outputs": [
    {
     "name": "stderr",
     "output_type": "stream",
     "text": [
      "C:\\Users\\hanson\\Anaconda3\\lib\\site-packages\\sklearn\\linear_model\\logistic.py:432: FutureWarning: Default solver will be changed to 'lbfgs' in 0.22. Specify a solver to silence this warning.\n",
      "  FutureWarning)\n",
      "C:\\Users\\hanson\\Anaconda3\\lib\\site-packages\\sklearn\\linear_model\\logistic.py:469: FutureWarning: Default multi_class will be changed to 'auto' in 0.22. Specify the multi_class option to silence this warning.\n",
      "  \"this warning.\", FutureWarning)\n"
     ]
    },
    {
     "name": "stdout",
     "output_type": "stream",
     "text": [
      "Accuracy: 0.7641290322580645\n"
     ]
    }
   ],
   "source": [
    "from sklearn.linear_model import LogisticRegression\n",
    "LR_Model = LogisticRegression()\n",
    "LR_Model.fit(X_train, y_train)\n",
    "LR_Predict = LR_Model.predict(X_valid)\n",
    "LR_Accuracy = accuracy_score(y_valid, LR_Predict)\n",
    "print(\"Accuracy: \" + str(LR_Accuracy))"
   ]
  },
  {
   "cell_type": "code",
   "execution_count": 43,
   "metadata": {
    "scrolled": true
   },
   "outputs": [
    {
     "name": "stdout",
     "output_type": "stream",
     "text": [
      "Accuracy: 0.6947096774193549\n"
     ]
    }
   ],
   "source": [
    "from sklearn.neighbors import KNeighborsClassifier\n",
    "KNN_Model = KNeighborsClassifier()\n",
    "KNN_Model.fit(X_train, y_train)\n",
    "KNN_Predict = KNN_Model.predict(X_valid)\n",
    "KNN_Accuracy = accuracy_score(y_valid, KNN_Predict)\n",
    "print(\"Accuracy: \" + str(KNN_Accuracy))"
   ]
  },
  {
   "cell_type": "code",
   "execution_count": 44,
   "metadata": {},
   "outputs": [
    {
     "name": "stdout",
     "output_type": "stream",
     "text": [
      "Accuracy: 0.7974193548387096\n"
     ]
    }
   ],
   "source": [
    "from sklearn.tree import DecisionTreeClassifier\n",
    "DT_Model = DecisionTreeClassifier()\n",
    "DT_Model.fit(X_train, y_train)\n",
    "DT_Predict = DT_Model.predict(X_valid)\n",
    "DT_Accuracy = accuracy_score(y_valid, DT_Predict)\n",
    "print(\"Accuracy: \" + str(DT_Accuracy))"
   ]
  },
  {
   "cell_type": "code",
   "execution_count": 45,
   "metadata": {
    "scrolled": true
   },
   "outputs": [
    {
     "name": "stdout",
     "output_type": "stream",
     "text": [
      "Accuracy: 0.7276129032258064\n"
     ]
    }
   ],
   "source": [
    "from sklearn.naive_bayes import GaussianNB\n",
    "clf = GaussianNB()\n",
    "clf.fit(X_train, y_train)\n",
    "nb_predict=clf.predict(X_valid)\n",
    "nb_accu = accuracy_score(y_valid, nb_predict)\n",
    "print(\"Accuracy: \" + str(nb_accu))"
   ]
  },
  {
   "cell_type": "markdown",
   "metadata": {},
   "source": [
    "Print accuracy per each class"
   ]
  },
  {
   "cell_type": "code",
   "execution_count": 46,
   "metadata": {
    "scrolled": true
   },
   "outputs": [
    {
     "name": "stdout",
     "output_type": "stream",
     "text": [
      "              precision    recall  f1-score   support\n",
      "\n",
      "   Classical       0.89      0.88      0.88      1002\n",
      "      Comedy       0.98      0.96      0.97       931\n",
      "  Electronic       0.83      0.78      0.80       953\n",
      "     Hip-Hop       0.79      0.87      0.83       976\n",
      "       Opera       0.92      0.93      0.92       952\n",
      "   Reggaeton       0.82      0.78      0.80       990\n",
      "        Rock       0.83      0.87      0.85       975\n",
      "         Ska       0.83      0.81      0.82       971\n",
      "\n",
      "    accuracy                           0.86      7750\n",
      "   macro avg       0.86      0.86      0.86      7750\n",
      "weighted avg       0.86      0.86      0.86      7750\n",
      "\n"
     ]
    },
    {
     "data": {
      "text/plain": [
       "array([0.87924152, 0.96025779, 0.78174187, 0.87295082, 0.92962185,\n",
       "       0.77676768, 0.87384615, 0.80741504])"
      ]
     },
     "execution_count": 46,
     "metadata": {},
     "output_type": "execute_result"
    }
   ],
   "source": [
    "from sklearn.metrics import classification_report\n",
    "from sklearn.metrics import confusion_matrix\n",
    "\n",
    "print(classification_report(y_valid, y_predict_rfc))\n",
    "matrix = confusion_matrix(y_valid, y_predict_rfc)\n",
    "matrix.diagonal()/matrix.sum(axis=1)"
   ]
  },
  {
   "cell_type": "code",
   "execution_count": 47,
   "metadata": {},
   "outputs": [
    {
     "name": "stdout",
     "output_type": "stream",
     "text": [
      "[[881   1  32   0  64   0   7  17]\n",
      " [  5 894   0   1   6  11   0  14]\n",
      " [ 29   2 745  26   3  43  48  57]\n",
      " [  0   1  20 852   0  36  62   5]\n",
      " [ 64   2   0   0 885   0   0   1]\n",
      " [  2   6  38  97   0 769  19  59]\n",
      " [  6   0  18  83   0  10 852   6]\n",
      " [  7   4  49  15   5  71  36 784]]\n"
     ]
    }
   ],
   "source": [
    "print(matrix)"
   ]
  },
  {
   "cell_type": "markdown",
   "metadata": {},
   "source": [
    "from sklearn.svm import SVC\n",
    "clf = SVC(gamma='auto')\n",
    "clf.fit(x_train_over, y_train_over)\n",
    "y_predict = clf.predict(X_valid)\n",
    "accuracy = accuracy_score(y_valid, y_predict)\n",
    "print(\"Accuracy: \" + str(accuracy))"
   ]
  },
  {
   "cell_type": "code",
   "execution_count": 48,
   "metadata": {
    "scrolled": false
   },
   "outputs": [
    {
     "name": "stdout",
     "output_type": "stream",
     "text": [
      "Train on 62066 samples, validate on 7750 samples\n",
      "Epoch 1/1\n"
     ]
    },
    {
     "ename": "ValueError",
     "evalue": "could not convert string to float: 'Opera'",
     "output_type": "error",
     "traceback": [
      "\u001b[1;31m---------------------------------------------------------------------------\u001b[0m",
      "\u001b[1;31mValueError\u001b[0m                                Traceback (most recent call last)",
      "\u001b[1;32m<ipython-input-48-ad16e5a824bc>\u001b[0m in \u001b[0;36m<module>\u001b[1;34m\u001b[0m\n\u001b[0;32m     27\u001b[0m                     \u001b[0mepochs\u001b[0m\u001b[1;33m=\u001b[0m\u001b[1;36m1\u001b[0m\u001b[1;33m,\u001b[0m\u001b[1;33m\u001b[0m\u001b[1;33m\u001b[0m\u001b[0m\n\u001b[0;32m     28\u001b[0m                     \u001b[0mbatch_size\u001b[0m\u001b[1;33m=\u001b[0m\u001b[1;36m28\u001b[0m\u001b[1;33m,\u001b[0m\u001b[1;33m\u001b[0m\u001b[1;33m\u001b[0m\u001b[0m\n\u001b[1;32m---> 29\u001b[1;33m                     validation_data=(X_valid, y_valid))\n\u001b[0m\u001b[0;32m     30\u001b[0m \u001b[1;33m\u001b[0m\u001b[0m\n\u001b[0;32m     31\u001b[0m \u001b[0mvalid_loss\u001b[0m\u001b[1;33m,\u001b[0m \u001b[0mvalid_acc\u001b[0m \u001b[1;33m=\u001b[0m \u001b[0mmodel\u001b[0m\u001b[1;33m.\u001b[0m\u001b[0mevaluate\u001b[0m\u001b[1;33m(\u001b[0m\u001b[0mX_test\u001b[0m\u001b[1;33m,\u001b[0m\u001b[0my_test\u001b[0m\u001b[1;33m)\u001b[0m\u001b[1;33m\u001b[0m\u001b[1;33m\u001b[0m\u001b[0m\n",
      "\u001b[1;32m~\\Anaconda3\\lib\\site-packages\\keras\\engine\\training.py\u001b[0m in \u001b[0;36mfit\u001b[1;34m(self, x, y, batch_size, epochs, verbose, callbacks, validation_split, validation_data, shuffle, class_weight, sample_weight, initial_epoch, steps_per_epoch, validation_steps, validation_freq, max_queue_size, workers, use_multiprocessing, **kwargs)\u001b[0m\n\u001b[0;32m   1237\u001b[0m                                         \u001b[0msteps_per_epoch\u001b[0m\u001b[1;33m=\u001b[0m\u001b[0msteps_per_epoch\u001b[0m\u001b[1;33m,\u001b[0m\u001b[1;33m\u001b[0m\u001b[1;33m\u001b[0m\u001b[0m\n\u001b[0;32m   1238\u001b[0m                                         \u001b[0mvalidation_steps\u001b[0m\u001b[1;33m=\u001b[0m\u001b[0mvalidation_steps\u001b[0m\u001b[1;33m,\u001b[0m\u001b[1;33m\u001b[0m\u001b[1;33m\u001b[0m\u001b[0m\n\u001b[1;32m-> 1239\u001b[1;33m                                         validation_freq=validation_freq)\n\u001b[0m\u001b[0;32m   1240\u001b[0m \u001b[1;33m\u001b[0m\u001b[0m\n\u001b[0;32m   1241\u001b[0m     def evaluate(self,\n",
      "\u001b[1;32m~\\Anaconda3\\lib\\site-packages\\keras\\engine\\training_arrays.py\u001b[0m in \u001b[0;36mfit_loop\u001b[1;34m(model, fit_function, fit_inputs, out_labels, batch_size, epochs, verbose, callbacks, val_function, val_inputs, shuffle, initial_epoch, steps_per_epoch, validation_steps, validation_freq)\u001b[0m\n\u001b[0;32m    194\u001b[0m                     \u001b[0mins_batch\u001b[0m\u001b[1;33m[\u001b[0m\u001b[0mi\u001b[0m\u001b[1;33m]\u001b[0m \u001b[1;33m=\u001b[0m \u001b[0mins_batch\u001b[0m\u001b[1;33m[\u001b[0m\u001b[0mi\u001b[0m\u001b[1;33m]\u001b[0m\u001b[1;33m.\u001b[0m\u001b[0mtoarray\u001b[0m\u001b[1;33m(\u001b[0m\u001b[1;33m)\u001b[0m\u001b[1;33m\u001b[0m\u001b[1;33m\u001b[0m\u001b[0m\n\u001b[0;32m    195\u001b[0m \u001b[1;33m\u001b[0m\u001b[0m\n\u001b[1;32m--> 196\u001b[1;33m                 \u001b[0mouts\u001b[0m \u001b[1;33m=\u001b[0m \u001b[0mfit_function\u001b[0m\u001b[1;33m(\u001b[0m\u001b[0mins_batch\u001b[0m\u001b[1;33m)\u001b[0m\u001b[1;33m\u001b[0m\u001b[1;33m\u001b[0m\u001b[0m\n\u001b[0m\u001b[0;32m    197\u001b[0m                 \u001b[0mouts\u001b[0m \u001b[1;33m=\u001b[0m \u001b[0mto_list\u001b[0m\u001b[1;33m(\u001b[0m\u001b[0mouts\u001b[0m\u001b[1;33m)\u001b[0m\u001b[1;33m\u001b[0m\u001b[1;33m\u001b[0m\u001b[0m\n\u001b[0;32m    198\u001b[0m                 \u001b[1;32mfor\u001b[0m \u001b[0ml\u001b[0m\u001b[1;33m,\u001b[0m \u001b[0mo\u001b[0m \u001b[1;32min\u001b[0m \u001b[0mzip\u001b[0m\u001b[1;33m(\u001b[0m\u001b[0mout_labels\u001b[0m\u001b[1;33m,\u001b[0m \u001b[0mouts\u001b[0m\u001b[1;33m)\u001b[0m\u001b[1;33m:\u001b[0m\u001b[1;33m\u001b[0m\u001b[1;33m\u001b[0m\u001b[0m\n",
      "\u001b[1;32m~\\Anaconda3\\lib\\site-packages\\tensorflow_core\\python\\keras\\backend.py\u001b[0m in \u001b[0;36m__call__\u001b[1;34m(self, inputs)\u001b[0m\n\u001b[0;32m   3732\u001b[0m               'You must feed a value for placeholder %s' % (tensor,))\n\u001b[0;32m   3733\u001b[0m       \u001b[1;32mif\u001b[0m \u001b[1;32mnot\u001b[0m \u001b[0misinstance\u001b[0m\u001b[1;33m(\u001b[0m\u001b[0mvalue\u001b[0m\u001b[1;33m,\u001b[0m \u001b[0mops\u001b[0m\u001b[1;33m.\u001b[0m\u001b[0mTensor\u001b[0m\u001b[1;33m)\u001b[0m\u001b[1;33m:\u001b[0m\u001b[1;33m\u001b[0m\u001b[1;33m\u001b[0m\u001b[0m\n\u001b[1;32m-> 3734\u001b[1;33m         \u001b[0mvalue\u001b[0m \u001b[1;33m=\u001b[0m \u001b[0mops\u001b[0m\u001b[1;33m.\u001b[0m\u001b[0mconvert_to_tensor\u001b[0m\u001b[1;33m(\u001b[0m\u001b[0mvalue\u001b[0m\u001b[1;33m,\u001b[0m \u001b[0mdtype\u001b[0m\u001b[1;33m=\u001b[0m\u001b[0mtensor\u001b[0m\u001b[1;33m.\u001b[0m\u001b[0mdtype\u001b[0m\u001b[1;33m)\u001b[0m\u001b[1;33m\u001b[0m\u001b[1;33m\u001b[0m\u001b[0m\n\u001b[0m\u001b[0;32m   3735\u001b[0m       \u001b[1;32mif\u001b[0m \u001b[0mvalue\u001b[0m\u001b[1;33m.\u001b[0m\u001b[0mdtype\u001b[0m \u001b[1;33m!=\u001b[0m \u001b[0mtensor\u001b[0m\u001b[1;33m.\u001b[0m\u001b[0mdtype\u001b[0m\u001b[1;33m:\u001b[0m\u001b[1;33m\u001b[0m\u001b[1;33m\u001b[0m\u001b[0m\n\u001b[0;32m   3736\u001b[0m         \u001b[1;31m# Temporary workaround due to `convert_to_tensor` not casting floats.\u001b[0m\u001b[1;33m\u001b[0m\u001b[1;33m\u001b[0m\u001b[1;33m\u001b[0m\u001b[0m\n",
      "\u001b[1;32m~\\Anaconda3\\lib\\site-packages\\tensorflow_core\\python\\framework\\ops.py\u001b[0m in \u001b[0;36mconvert_to_tensor\u001b[1;34m(value, dtype, name, preferred_dtype, dtype_hint)\u001b[0m\n\u001b[0;32m   1182\u001b[0m   preferred_dtype = deprecation.deprecated_argument_lookup(\n\u001b[0;32m   1183\u001b[0m       \"dtype_hint\", dtype_hint, \"preferred_dtype\", preferred_dtype)\n\u001b[1;32m-> 1184\u001b[1;33m   \u001b[1;32mreturn\u001b[0m \u001b[0mconvert_to_tensor_v2\u001b[0m\u001b[1;33m(\u001b[0m\u001b[0mvalue\u001b[0m\u001b[1;33m,\u001b[0m \u001b[0mdtype\u001b[0m\u001b[1;33m,\u001b[0m \u001b[0mpreferred_dtype\u001b[0m\u001b[1;33m,\u001b[0m \u001b[0mname\u001b[0m\u001b[1;33m)\u001b[0m\u001b[1;33m\u001b[0m\u001b[1;33m\u001b[0m\u001b[0m\n\u001b[0m\u001b[0;32m   1185\u001b[0m \u001b[1;33m\u001b[0m\u001b[0m\n\u001b[0;32m   1186\u001b[0m \u001b[1;33m\u001b[0m\u001b[0m\n",
      "\u001b[1;32m~\\Anaconda3\\lib\\site-packages\\tensorflow_core\\python\\framework\\ops.py\u001b[0m in \u001b[0;36mconvert_to_tensor_v2\u001b[1;34m(value, dtype, dtype_hint, name)\u001b[0m\n\u001b[0;32m   1240\u001b[0m       \u001b[0mname\u001b[0m\u001b[1;33m=\u001b[0m\u001b[0mname\u001b[0m\u001b[1;33m,\u001b[0m\u001b[1;33m\u001b[0m\u001b[1;33m\u001b[0m\u001b[0m\n\u001b[0;32m   1241\u001b[0m       \u001b[0mpreferred_dtype\u001b[0m\u001b[1;33m=\u001b[0m\u001b[0mdtype_hint\u001b[0m\u001b[1;33m,\u001b[0m\u001b[1;33m\u001b[0m\u001b[1;33m\u001b[0m\u001b[0m\n\u001b[1;32m-> 1242\u001b[1;33m       as_ref=False)\n\u001b[0m\u001b[0;32m   1243\u001b[0m \u001b[1;33m\u001b[0m\u001b[0m\n\u001b[0;32m   1244\u001b[0m \u001b[1;33m\u001b[0m\u001b[0m\n",
      "\u001b[1;32m~\\Anaconda3\\lib\\site-packages\\tensorflow_core\\python\\framework\\ops.py\u001b[0m in \u001b[0;36minternal_convert_to_tensor\u001b[1;34m(value, dtype, name, as_ref, preferred_dtype, ctx, accept_composite_tensors)\u001b[0m\n\u001b[0;32m   1294\u001b[0m \u001b[1;33m\u001b[0m\u001b[0m\n\u001b[0;32m   1295\u001b[0m     \u001b[1;32mif\u001b[0m \u001b[0mret\u001b[0m \u001b[1;32mis\u001b[0m \u001b[1;32mNone\u001b[0m\u001b[1;33m:\u001b[0m\u001b[1;33m\u001b[0m\u001b[1;33m\u001b[0m\u001b[0m\n\u001b[1;32m-> 1296\u001b[1;33m       \u001b[0mret\u001b[0m \u001b[1;33m=\u001b[0m \u001b[0mconversion_func\u001b[0m\u001b[1;33m(\u001b[0m\u001b[0mvalue\u001b[0m\u001b[1;33m,\u001b[0m \u001b[0mdtype\u001b[0m\u001b[1;33m=\u001b[0m\u001b[0mdtype\u001b[0m\u001b[1;33m,\u001b[0m \u001b[0mname\u001b[0m\u001b[1;33m=\u001b[0m\u001b[0mname\u001b[0m\u001b[1;33m,\u001b[0m \u001b[0mas_ref\u001b[0m\u001b[1;33m=\u001b[0m\u001b[0mas_ref\u001b[0m\u001b[1;33m)\u001b[0m\u001b[1;33m\u001b[0m\u001b[1;33m\u001b[0m\u001b[0m\n\u001b[0m\u001b[0;32m   1297\u001b[0m \u001b[1;33m\u001b[0m\u001b[0m\n\u001b[0;32m   1298\u001b[0m     \u001b[1;32mif\u001b[0m \u001b[0mret\u001b[0m \u001b[1;32mis\u001b[0m \u001b[0mNotImplemented\u001b[0m\u001b[1;33m:\u001b[0m\u001b[1;33m\u001b[0m\u001b[1;33m\u001b[0m\u001b[0m\n",
      "\u001b[1;32m~\\Anaconda3\\lib\\site-packages\\tensorflow_core\\python\\framework\\tensor_conversion_registry.py\u001b[0m in \u001b[0;36m_default_conversion_function\u001b[1;34m(***failed resolving arguments***)\u001b[0m\n\u001b[0;32m     50\u001b[0m \u001b[1;32mdef\u001b[0m \u001b[0m_default_conversion_function\u001b[0m\u001b[1;33m(\u001b[0m\u001b[0mvalue\u001b[0m\u001b[1;33m,\u001b[0m \u001b[0mdtype\u001b[0m\u001b[1;33m,\u001b[0m \u001b[0mname\u001b[0m\u001b[1;33m,\u001b[0m \u001b[0mas_ref\u001b[0m\u001b[1;33m)\u001b[0m\u001b[1;33m:\u001b[0m\u001b[1;33m\u001b[0m\u001b[1;33m\u001b[0m\u001b[0m\n\u001b[0;32m     51\u001b[0m   \u001b[1;32mdel\u001b[0m \u001b[0mas_ref\u001b[0m  \u001b[1;31m# Unused.\u001b[0m\u001b[1;33m\u001b[0m\u001b[1;33m\u001b[0m\u001b[0m\n\u001b[1;32m---> 52\u001b[1;33m   \u001b[1;32mreturn\u001b[0m \u001b[0mconstant_op\u001b[0m\u001b[1;33m.\u001b[0m\u001b[0mconstant\u001b[0m\u001b[1;33m(\u001b[0m\u001b[0mvalue\u001b[0m\u001b[1;33m,\u001b[0m \u001b[0mdtype\u001b[0m\u001b[1;33m,\u001b[0m \u001b[0mname\u001b[0m\u001b[1;33m=\u001b[0m\u001b[0mname\u001b[0m\u001b[1;33m)\u001b[0m\u001b[1;33m\u001b[0m\u001b[1;33m\u001b[0m\u001b[0m\n\u001b[0m\u001b[0;32m     53\u001b[0m \u001b[1;33m\u001b[0m\u001b[0m\n\u001b[0;32m     54\u001b[0m \u001b[1;33m\u001b[0m\u001b[0m\n",
      "\u001b[1;32m~\\Anaconda3\\lib\\site-packages\\tensorflow_core\\python\\framework\\constant_op.py\u001b[0m in \u001b[0;36mconstant\u001b[1;34m(value, dtype, shape, name)\u001b[0m\n\u001b[0;32m    225\u001b[0m   \"\"\"\n\u001b[0;32m    226\u001b[0m   return _constant_impl(value, dtype, shape, name, verify_shape=False,\n\u001b[1;32m--> 227\u001b[1;33m                         allow_broadcast=True)\n\u001b[0m\u001b[0;32m    228\u001b[0m \u001b[1;33m\u001b[0m\u001b[0m\n\u001b[0;32m    229\u001b[0m \u001b[1;33m\u001b[0m\u001b[0m\n",
      "\u001b[1;32m~\\Anaconda3\\lib\\site-packages\\tensorflow_core\\python\\framework\\constant_op.py\u001b[0m in \u001b[0;36m_constant_impl\u001b[1;34m(value, dtype, shape, name, verify_shape, allow_broadcast)\u001b[0m\n\u001b[0;32m    233\u001b[0m   \u001b[0mctx\u001b[0m \u001b[1;33m=\u001b[0m \u001b[0mcontext\u001b[0m\u001b[1;33m.\u001b[0m\u001b[0mcontext\u001b[0m\u001b[1;33m(\u001b[0m\u001b[1;33m)\u001b[0m\u001b[1;33m\u001b[0m\u001b[1;33m\u001b[0m\u001b[0m\n\u001b[0;32m    234\u001b[0m   \u001b[1;32mif\u001b[0m \u001b[0mctx\u001b[0m\u001b[1;33m.\u001b[0m\u001b[0mexecuting_eagerly\u001b[0m\u001b[1;33m(\u001b[0m\u001b[1;33m)\u001b[0m\u001b[1;33m:\u001b[0m\u001b[1;33m\u001b[0m\u001b[1;33m\u001b[0m\u001b[0m\n\u001b[1;32m--> 235\u001b[1;33m     \u001b[0mt\u001b[0m \u001b[1;33m=\u001b[0m \u001b[0mconvert_to_eager_tensor\u001b[0m\u001b[1;33m(\u001b[0m\u001b[0mvalue\u001b[0m\u001b[1;33m,\u001b[0m \u001b[0mctx\u001b[0m\u001b[1;33m,\u001b[0m \u001b[0mdtype\u001b[0m\u001b[1;33m)\u001b[0m\u001b[1;33m\u001b[0m\u001b[1;33m\u001b[0m\u001b[0m\n\u001b[0m\u001b[0;32m    236\u001b[0m     \u001b[1;32mif\u001b[0m \u001b[0mshape\u001b[0m \u001b[1;32mis\u001b[0m \u001b[1;32mNone\u001b[0m\u001b[1;33m:\u001b[0m\u001b[1;33m\u001b[0m\u001b[1;33m\u001b[0m\u001b[0m\n\u001b[0;32m    237\u001b[0m       \u001b[1;32mreturn\u001b[0m \u001b[0mt\u001b[0m\u001b[1;33m\u001b[0m\u001b[1;33m\u001b[0m\u001b[0m\n",
      "\u001b[1;32m~\\Anaconda3\\lib\\site-packages\\tensorflow_core\\python\\framework\\constant_op.py\u001b[0m in \u001b[0;36mconvert_to_eager_tensor\u001b[1;34m(value, ctx, dtype)\u001b[0m\n\u001b[0;32m     94\u001b[0m       \u001b[0mdtype\u001b[0m \u001b[1;33m=\u001b[0m \u001b[0mdtypes\u001b[0m\u001b[1;33m.\u001b[0m\u001b[0mas_dtype\u001b[0m\u001b[1;33m(\u001b[0m\u001b[0mdtype\u001b[0m\u001b[1;33m)\u001b[0m\u001b[1;33m.\u001b[0m\u001b[0mas_datatype_enum\u001b[0m\u001b[1;33m\u001b[0m\u001b[1;33m\u001b[0m\u001b[0m\n\u001b[0;32m     95\u001b[0m   \u001b[0mctx\u001b[0m\u001b[1;33m.\u001b[0m\u001b[0mensure_initialized\u001b[0m\u001b[1;33m(\u001b[0m\u001b[1;33m)\u001b[0m\u001b[1;33m\u001b[0m\u001b[1;33m\u001b[0m\u001b[0m\n\u001b[1;32m---> 96\u001b[1;33m   \u001b[1;32mreturn\u001b[0m \u001b[0mops\u001b[0m\u001b[1;33m.\u001b[0m\u001b[0mEagerTensor\u001b[0m\u001b[1;33m(\u001b[0m\u001b[0mvalue\u001b[0m\u001b[1;33m,\u001b[0m \u001b[0mctx\u001b[0m\u001b[1;33m.\u001b[0m\u001b[0mdevice_name\u001b[0m\u001b[1;33m,\u001b[0m \u001b[0mdtype\u001b[0m\u001b[1;33m)\u001b[0m\u001b[1;33m\u001b[0m\u001b[1;33m\u001b[0m\u001b[0m\n\u001b[0m\u001b[0;32m     97\u001b[0m \u001b[1;33m\u001b[0m\u001b[0m\n\u001b[0;32m     98\u001b[0m \u001b[1;33m\u001b[0m\u001b[0m\n",
      "\u001b[1;31mValueError\u001b[0m: could not convert string to float: 'Opera'"
     ]
    }
   ],
   "source": [
    "import tensorflow as tf\n",
    "from keras import models\n",
    "from keras import layers\n",
    "\n",
    "#For the RTX 2060 GPU to work in Tensorflow-gpu 2.0, setting the memory growth.\n",
    "import tensorflow.keras\n",
    "physical_devices = tf.config.experimental.list_physical_devices('GPU')\n",
    "assert len(physical_devices) > 0, \"Not enough GPU hardware devices available\"\n",
    "config = tf.config.experimental.set_memory_growth(physical_devices[0], True)\n",
    "\n",
    "\n",
    "model = models.Sequential()\n",
    "model.add(layers.Dense(256, activation='relu', input_shape=(X_train.shape[1],)))\n",
    "\n",
    "model.add(layers.Dense(128, activation='relu'))\n",
    "\n",
    "model.add(layers.Dense(64, activation='relu'))\n",
    "\n",
    "model.add(layers.Dense(10, activation='softmax'))\n",
    "\n",
    "model.compile(optimizer='adam',\n",
    "              loss='sparse_categorical_crossentropy',\n",
    "              metrics=['accuracy'])\n",
    "\n",
    "history = model.fit(X_train,\n",
    "                    y_train,\n",
    "                    epochs=1,\n",
    "                    batch_size=28,\n",
    "                    validation_data=(X_valid, y_valid))\n",
    "\n",
    "valid_loss, valid_acc = model.evaluate(X_test,y_test)\n",
    "\n",
    "print('valid_acc: ', valid_acc)"
   ]
  },
  {
   "cell_type": "code",
   "execution_count": null,
   "metadata": {},
   "outputs": [],
   "source": []
  }
 ],
 "metadata": {
  "kernelspec": {
   "display_name": "Python 3",
   "language": "python",
   "name": "python3"
  },
  "language_info": {
   "codemirror_mode": {
    "name": "ipython",
    "version": 3
   },
   "file_extension": ".py",
   "mimetype": "text/x-python",
   "name": "python",
   "nbconvert_exporter": "python",
   "pygments_lexer": "ipython3",
   "version": "3.7.4"
  }
 },
 "nbformat": 4,
 "nbformat_minor": 2
}
